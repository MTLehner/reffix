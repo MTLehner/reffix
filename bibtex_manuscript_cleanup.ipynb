{
 "cells": [
  {
   "cell_type": "code",
   "execution_count": 3,
   "metadata": {},
   "outputs": [],
   "source": [
    "#imports\n",
    "import os\n",
    "\n",
    "try:\n",
    "    import bibtexparser\n",
    "except:\n",
    "    ! conda install -c conda-forge bibtexparse"
   ]
  },
  {
   "cell_type": "code",
   "execution_count": 13,
   "metadata": {
    "pycharm": {
     "name": "#%%\n"
    },
    "scrolled": true
   },
   "outputs": [
    {
     "name": "stdout",
     "output_type": "stream",
     "text": [
      "in Path: ../2_chapter_intro/ref/ref.bib\n",
      "in Path: ./fixed_ref/cleanManuscript.bib\n"
     ]
    }
   ],
   "source": [
    "#PATHs\n",
    "in_bib_path=\"../2_chapter_intro/ref/ref.bib\"\n",
    "in_tex_file_path = \"../2_chapter_intro/inc/introduction.tex\"\n",
    "\n",
    "out_dir = \"./fixed_ref\"\n",
    "if(not os.path.exists(out_dir)): os.mkdir(out_dir)\n",
    "out_bib_path = out_dir+\"/cleanManuscript.bib\"\n",
    "\n",
    "print(\"in Path:\", in_bib_path)\n",
    "print(\"in Path:\", out_bib_path)"
   ]
  },
  {
   "cell_type": "markdown",
   "metadata": {},
   "source": [
    "# Parsing and fixing of general things"
   ]
  },
  {
   "cell_type": "markdown",
   "metadata": {},
   "source": [
    "## RULES"
   ]
  },
  {
   "cell_type": "code",
   "execution_count": 14,
   "metadata": {
    "pycharm": {
     "name": "#%%\n"
    }
   },
   "outputs": [],
   "source": [
    "from reffix.entry_rules import titelcasing_fields, journal_iso4, double_minus, capitalize_keys\n",
    "from reffix.entry_rules import check_misc_fields, check_incollection_fields, check_inproceedings_fields, check_inbook_fields, check_article_fields, check_book_fields\n",
    "from reffix.entry_rules import homogenize_latex_encoding\n",
    "from bibtexparser.customization import type as bibtexType"
   ]
  },
  {
   "cell_type": "code",
   "execution_count": 15,
   "metadata": {},
   "outputs": [],
   "source": [
    "from bibtexparser.bparser import BibTexParser\n",
    "\n",
    "def build_standardParser():\n",
    "    myParser = BibTexParser()\n",
    "\n",
    "    def rulez(record):\n",
    "        record = bibtexType(record)\n",
    "        record = capitalize_keys(record)\n",
    "\n",
    "        #record = homogenize_latex_encoding(record)\n",
    "        record = check_article_fields(record)\n",
    "        record = check_book_fields(record)\n",
    "        record = check_incollection_fields(record)\n",
    "        record = check_inproceedings_fields(record)\n",
    "        record = check_inbook_fields(record)\n",
    "\n",
    "\n",
    "        record = double_minus(record)\n",
    "        record = titelcasing_fields(record)\n",
    "        record = journal_iso4(record)\n",
    "\n",
    "        return record\n",
    "\n",
    "    myParser.customization = rulez\n",
    "    return myParser\n"
   ]
  },
  {
   "cell_type": "markdown",
   "metadata": {},
   "source": [
    "## Load bib and Clean entries\n",
    "\n",
    "the rules are stored in the build_standardParser function"
   ]
  },
  {
   "cell_type": "code",
   "execution_count": 16,
   "metadata": {
    "pycharm": {
     "name": "#%%\n"
    }
   },
   "outputs": [],
   "source": [
    "with open(in_bib_path, \"r\", encoding=\"utf-8\") as bibtex_file:\n",
    "    bib_database = bibtexparser.load(bibtex_file, parser=build_standardParser())\n"
   ]
  },
  {
   "cell_type": "code",
   "execution_count": 17,
   "metadata": {
    "tags": []
   },
   "outputs": [
    {
     "name": "stdout",
     "output_type": "stream",
     "text": [
      "{'Agard2014': {'title': 'Chapter Two - Single-Particle Cryo-Electron Microscopy (Cryo-Em): Progress, Challenges, and Perspectives for Further Improvement', 'author': 'Agard, David and Cheng, Yifan and Glaeser, Robert M. and Subramaniam, Sriram', 'year': '2014', 'ENTRYTYPE': 'incollection', 'ID': 'Agard2014', 'publisher': 'Elsevier', 'pages': '113--137', 'booktitle': 'Advances in Imaging and Electron Physics'}, 'Aldeghi2016': {'title': 'Accurate Calculation of the Absolute Free Energy of Binding for Drug Molecules', 'author': 'Aldeghi, Matteo and Heifetz, Alexander and Bodkin, Michael J. and Knapp, Stefan and Biggin, Philip C.', 'year': '2016', 'journal': 'Chem. Sci.', 'volume': '7', 'pages': '207--218', 'ENTRYTYPE': 'article', 'ID': 'Aldeghi2016'}, 'Armacost2020': {'title': 'Novel Directions in Free Energy Methods and Applications', 'author': 'Armacost, Kira A. and Riniker, Sereina and Cournia, Zoe', 'year': '2020', 'journal': 'J. Chem. Inf. Model.', 'volume': '60', 'pages': '1--5', 'ENTRYTYPE': 'article', 'ID': 'Armacost2020'}, 'Askerka2017': {'title': 'The O2-Evolving Complex of Photosystem II: Recent Insights From Quantum Mechanics/Molecular Mechanics (QM/MM), Extended X-Ray Absorption Fine Structure (EXAFS), and Femtosecond X-Ray Crystallography Data', 'author': 'Askerka, Mikhail and Brudvig, Gary W. and Batista, Victor S.', 'year': '2017', 'journal': 'Acc. Chem. Re.', 'volume': '50', 'pages': '41--48', 'ENTRYTYPE': 'article', 'ID': 'Askerka2017'}, 'Atkins2014': {'title': 'Atkins’ Physical Chemistry', 'author': 'Atkins, P and De Paula, J', 'year': '2014', 'publisher': 'OUP Oxford', 'ENTRYTYPE': 'book', 'ID': 'Atkins2014'}, 'Barros2022': {'title': 'Recent Developments in Multiscale Free Energy Simulations', 'author': 'Barros, Emilia P and Ries, Benjamin and B{\\\\\"o}selt, Lennard and Champion, Candide and Riniker, Sereina', 'year': '2022', 'journal': 'Curr. Opin. Struct. Biol.', 'volume': '72', 'pages': '55--62', 'ENTRYTYPE': 'article', 'ID': 'Barros2022'}, 'Bemporad2004': {'title': 'Permeation of Small Molecules Through a Lipid Bilayer: A Computer Simulation Study', 'author': 'Bemporad, Daniele and Essex, Jonathan W. and Luttmann, Claude', 'year': '2004', 'journal': 'J. Phys. Chem.', 'volume': '108', 'pages': '4875--4884', 'ENTRYTYPE': 'article', 'ID': 'Bemporad2004'}, 'Berendsen1984': {'title': 'Molecular Dynamics With Coupling to an External Bath', 'author': ' Berendsen, H. J. C. and Postma, J. P. M. and van Gunsteren, W. F. and DiNola, A. and Haak, J. R.', 'year': '1984', 'journal': 'J. Chem. Phys.', 'volume': '81', 'pages': '3684', 'ENTRYTYPE': 'article', 'ID': 'Berendsen1984'}, 'Berendsen1995': {'title': 'GROMACS: A Message-Passing Parallel Molecular Dynamics Implementation', 'author': 'Berendsen, H. J. C.  and van der Spoel,D.  and van Drunen, R. ', 'year': '1995', 'journal': 'Comp. Phys. Comm.', 'volume': '91', 'pages': '43--56', 'ENTRYTYPE': 'article', 'ID': 'Berendsen1995'}, 'Blondel1996': {'title': 'New Formulation for Derivatives of Torsion Angles and Improper Torsion Angles in Molecular Mechanics: Elimination of Singularities', 'author': 'Blondel, Arnaud and Karplus, Martin', 'year': '1996', 'journal': 'J. Comp. Chem.', 'volume': '17', 'pages': '1132--1141', 'ENTRYTYPE': 'article', 'ID': 'Blondel1996'}, 'Boltzmann1872': {'title': 'Weitere Studien Uber Das W\\\\\"Armegleichgewicht Unter Gasmolekulen', 'author': 'Boltzmann, L.', 'year': '1872', 'journal': 'Sitzungsber. Kais. Akad. Wi. Wien. Math. Naturwiss. Cl.', 'volume': '66', 'pages': '275--370', 'ENTRYTYPE': 'article', 'ID': 'Boltzmann1872'}, 'Brooks1983': {'title': 'CHARMM: A Program for Macromolecular Energy, Minimization, and Dynamics Calculations', 'author': 'Brooks, Bernard R and Bruccoleri, Robert E and Olafson, Barry D and States, David J and Swaminathan, S a and Karplus, Martin', 'year': '1983', 'journal': 'J. Comput. Chem.', 'volume': '4', 'pages': '187--217', 'ENTRYTYPE': 'article', 'ID': 'Brooks1983'}, 'Cazals2015': {'title': 'Conformational Ensembles and Sampled Energy Landscapes: Analysis and Comparison', 'author': \"Cazals, Fr{\\\\'e}d{\\\\'e}ric and Dreyfus, Tom and Mazauric, Dorian and Roth, Christine-Andrea and Robert, Charles H\", 'year': '2015', 'journal': 'J. comput. chem.', 'volume': '36', 'pages': '1213--1231', 'ENTRYTYPE': 'article', 'ID': 'Cazals2015'}, 'Chavent2014': {'title': 'Methodologies for the Analysis of Instantaneous Lipid Diffusion in MD Simulations of Large Membrane Systems', 'author': 'Chavent, Matthieu and Reddy, Tyler and Goose, Joseph and Dahl, Anna Caroline E. and Stone, John E. and Jobard, Bruno and Sansom, Mark S. P.', 'year': '2014', 'journal': 'Faraday. Discus.', 'volume': '169', 'pages': '455--475', 'ENTRYTYPE': 'article', 'ID': 'Chavent2014'}, 'Cheng2017': {'title': 'How Cryo-Em Became So Hot', 'author': 'Yifan Cheng and Robert M. Glaeser and Eva Nogales', 'year': '2017', 'journal': 'Cell.', 'volume': '171', 'pages': '1229--1231', 'ENTRYTYPE': 'article', 'ID': 'Cheng2017'}, 'Chodera2011': {'title': 'Alchemical Free Energy Methods for Drug Discovery: Progress and Challenges', 'author': 'Chodera, John D and Mobley, David L and Shirts, Michael R and Dixon, Richard W and Branson,  Kim and Pande, Vijay S', 'year': '2011', 'journal': 'Curr. Opin. Struct. Biology.', 'volume': '21', 'pages': '150--160', 'ENTRYTYPE': 'article', 'ID': 'Chodera2011'}, 'Christ2009': {'title': 'Basic Ingredients of Free Energy Calculations: A Review', 'author': 'Christ, Clara D and Mark, Alan E and van Gunsteren, Wilfred F', 'year': '2009', 'journal': 'J. Comput. Chem.', 'volume': '31', 'pages': '1569--1582', 'ENTRYTYPE': 'article', 'ID': 'Christ2009'}, 'Christ2014': {'title': 'Accuracy Assessment and Automation of Free Energy Calculations for Drug Design', 'author': 'Christ, Clara D. and Fox, Thomas', 'year': '2014', 'journal': 'J. Chem. Inf. Model.', 'volume': '54', 'pages': '108--120', 'ENTRYTYPE': 'article', 'ID': 'Christ2014'}, 'Ciccotti1986': {'title': 'Molecular Dynamics Simulation of Rigid Molecules', 'author': 'Ciccotti, G. and Ryckaert, J.P.', 'year': '1986', 'journal': 'Comput. Phys. Rep.', 'volume': '4', 'pages': '346--392', 'ENTRYTYPE': 'article', 'ID': 'Ciccotti1986'}, 'Cohen1999': {'title': 'The Principia: Mathematical Principles of Natural Philosophy', 'author': 'Cohen, I. Bernard\\nand Whitman, Anne\\nand Budenz, Julia', 'year': '1999', 'publisher': 'University of California Press', 'ENTRYTYPE': 'book', 'ID': 'Cohen1999', 'edition': '1'}, 'Corbett2021': {'title': 'Cyclosporin Structure and Permeability: From a to Z and Beyond', 'author': 'Corbett, Karen M. and Ford, Leigh and Warren, Dallas B. and Pouton, Colin W. and Chalmers, David K.', 'year': '2021', 'journal': 'J. Med. Chem.', 'volume': '64', 'pages': '13131--13151', 'ENTRYTYPE': 'article', 'ID': 'Corbett2021'}, 'Cornell1995': {'title': 'A Second Generation Force Field for the Simulation of Proteins, Nucleic Acids, and Organic Molecules', 'author': 'Cornell, Wendy D. and Cieplak, Piotr and Bayly, Christopher I. and Gould, Ian R. and Merz, Kenneth M. and Ferguson, David M. and Spellmeyer, David C. and Fox, Thomas and Caldwell, James W. and Kollman, Peter A.', 'year': '1995', 'journal': 'J. Am. Chem. Soc.', 'volume': '117', 'pages': '5179--5197', 'ENTRYTYPE': 'article', 'ID': 'Cornell1995'}, 'Cournia2017': {'title': 'Relative Binding Free Energy Calculations in Drug Discovery: Recent Advances and Practical Considerations', 'author': 'Cournia, Zoe and Allen, Bryce and Sherman, Woody', 'year': '2017', 'journal': 'J. Chem. Inf. Model.', 'volume': '57', 'pages': '2911--2937', 'ENTRYTYPE': 'article', 'ID': 'Cournia2017'}, 'Cournia2020': {'title': 'Rigorous Free Energy Simulations in Virtual Screening', 'author': 'Cournia, Zoe and Allen, Bryce K. and Beuming, Thijs and Pearlman, David A. and Radak, Brian K. and Sherman, Woody', 'year': '2020', 'journal': 'J. Chem. Inf. Model.', 'volume': '60', 'pages': '4153 -- 4169', 'ENTRYTYPE': 'article', 'ID': 'Cournia2020'}, 'Crick1970': {'title': 'Central Dogma of Molecular Biology', 'author': 'Crick, Francis', 'year': '1970', 'journal': 'Nature.', 'volume': '227', 'pages': '561--563', 'ENTRYTYPE': 'article', 'ID': 'Crick1970'}, 'Danelius2020': {'title': 'Solution Conformations Explain the Chameleonic Behaviour of Macrocyclic Drugs', 'author': 'Danelius, Emma and Poongavanam, Vasanthanathan and Peintner, Stefan and Wieske, Lianne H. E. and Erd\\\\`elyi, Mát\\\\`e and Kihlberg, Jan', 'year': '2020', 'journal': 'Chem. . Eur. J.', 'volume': '26', 'pages': '5231--5244', 'ENTRYTYPE': 'article', 'ID': 'Danelius2020'}, 'Darden1993': {'title': 'Particle Mesh Ewald: An $N \\\\Dot Log(N)$ Method for Ewald Sums in Large Systems', 'author': 'Darden,Tom  and York,Darrin  and Pedersen,Lee ', 'year': '1993', 'journal': 'J. Chem. Phys.', 'volume': '98', 'pages': '10089--10092', 'ENTRYTYPE': 'article', 'ID': 'Darden1993'}, 'Daura1998': {'title': 'Parametrization of Aliphatic CHn United Atoms of GROMOS96 Force Field', 'author': 'Daura, Xavier and Mark, Alan E. and Van Gunsteren, Wilfred F.', 'year': '1998', 'journal': 'J. Comput. Chem.', 'volume': '19', 'pages': '535--547', 'ENTRYTYPE': 'article', 'ID': 'Daura1998'}, 'Debye1909': {'title': 'N\\\\\"Aherungsformeln F\\\\\"Ur Die Zylinderfunktionen F\\\\\"Ur Gro{\\\\ss}e Werte Des Arguments Und Unbeschr\\\\\"Ankt Ver\\\\\"Anderliche Werte Des Index', 'author': 'Debye, P.', 'year': '1909', 'journal': 'Math. Ann.', 'volume': '67', 'pages': '535--558', 'ENTRYTYPE': 'article', 'ID': 'Debye1909'}, 'Doak2016': {'title': 'How Beyond Rule of 5 Drugs and Clinical Candidates Bind to Their Targets', 'author': 'Doak, Bradley C. and Zheng, Jie and Dobritzsch, Doreen and Kihlberg, Jan', 'year': '2016', 'journal': 'J. Med. Chem.', 'volume': '59', 'pages': '2312--2327', 'ENTRYTYPE': 'article', 'ID': 'Doak2016'}, 'Dobson1986': {'title': 'Internal Motion of Proteins: Nuclear Magnetic Resonance Measurements and Dynamic Simulations', 'author': 'Dobson, CM and Karplus, M', 'year': '1986', 'ENTRYTYPE': 'incollection', 'ID': 'Dobson1986', 'publisher': 'Elsevier', 'pages': '362--389', 'booktitle': 'Methods in enzymology'}, 'Doerr2016': {'title': 'Single-Particle Cryo-Electron Microscopy', 'author': 'Doerr, Allison', 'year': '2016', 'journal': 'Nat. Method.', 'volume': '13', 'pages': '23--23', 'ENTRYTYPE': 'article', 'ID': 'Doerr2016'}, 'Dugave2003': {'title': 'Cis--Trans Isomerization of Organic Molecules and Biomolecules: Implications and Applications', 'author': 'Dugave, Christophe and Demange, Luc', 'year': '2003', 'journal': 'Chem. Rev.', 'volume': '103', 'pages': '2475--2532', 'ENTRYTYPE': 'article', 'ID': 'Dugave2003'}, 'Durrant2011': {'title': 'Molecular Dynamics Simulations and Drug Discovery', 'author': 'Durrant, Jacob D.\\nand McCammon, J. Andrew', 'year': '2011', 'journal': 'BMC. Biol.', 'volume': '9', 'pages': '71', 'ENTRYTYPE': 'article', 'ID': 'Durrant2011'}, 'Eastman2010': {'title': 'OpenMM: A Hardware-Independent Framework for Molecular Simulations', 'author': 'Eastman, Peter and Pande, Vijay', 'year': '2010', 'journal': 'Comput. Sci. Eng.', 'volume': '12', 'pages': '34--39', 'ENTRYTYPE': 'article', 'ID': 'Eastman2010'}, 'Elkin2003': {'title': 'Rosalind Franklin and the Double Helix', 'author': 'Elkin, Lynne Osman', 'year': '2003', 'journal': 'Phys. Today.', 'volume': '56', 'pages': '42--48', 'ENTRYTYPE': 'article', 'ID': 'Elkin2003'}, 'Frauenfelder1979': {'title': 'Temperature-Dependent X-Ray Diffraction as a Probe of Protein Structural Dynamics', 'author': 'Frauenfelder, Hans and Petsko, Gregory A and Tsernoglou, Demetrius', 'year': '1979', 'journal': 'Nature.', 'volume': '280', 'pages': '558--563', 'ENTRYTYPE': 'article', 'ID': 'Frauenfelder1979'}, 'Friedel2003': {'title': 'Effects of Confinement and Crowding on the Thermodynamics and Kinetics of Folding of a Minimalist $\\\\Beta $ -Barrel Protein', 'author': 'Friedel, Miriam and Sheeler, Daniel J and Shea, Joan-Emma', 'year': '2003', 'journal': 'J. Chem. Phys.', 'volume': '118', 'pages': '8106--8113', 'ENTRYTYPE': 'article', 'ID': 'Friedel2003'}, 'Furukawa2020': {'title': 'Drug-Like Properties in Macrocycles Above MW 1000: Backbone Rigidity Versus Side-Chain Lipophilicity', 'author': 'Furukawa, Akihiro and Schwochert, Joshua and Pye, Cameron R. and Asano, Daigo and Edmondson, Quinn D. and Turmon, Alexandra C. and Klein, Victoria G. and Ono, Satoshi and Okada, Okimasa and Lokey, R. Scott', 'year': '2020', 'journal': 'Angew. Chem. Int. Ed.', 'volume': '59', 'pages': '21571--21577', 'ENTRYTYPE': 'article', 'ID': 'Furukawa2020'}, 'Gibbs1879': {'title': 'On the Equilibrium of Heterogeneous Substances', 'author': 'Gibbs, Josiah Willard', 'year': '1879', 'journal': 'Trans. Conn. Acad. Art. Sci.', 'volume': '3', 'pages': '108--248', 'ENTRYTYPE': 'article', 'ID': 'Gibbs1879'}, 'Gillmor2017': {'title': 'Coulomb and the Evolution of Physics and Engineering in Eighteenth-Century France', 'author': 'Gillmor, C Stewart', 'year': '2017', 'publisher': 'Princeton University Press', 'ENTRYTYPE': 'book', 'ID': 'Gillmor2017'}, 'Goethe1825': {'title': 'Faust: Eine Tragoedie', 'author': 'Goethe, Johann Wolfgang', 'year': '1825', 'publisher': 'Cotta', 'ENTRYTYPE': 'book', 'ID': 'Goethe1825'}, 'Gunsteren1990': {'title': 'Computer Simulation of Molecular Dynamics: Methodology, Applications, and Perspectives in Chemistry', 'author': 'van Gunsteren, Wilfred F. and Berendsen, Herman J. C.', 'year': '1990', 'journal': 'Angew. Chem. Int. Ed.', 'volume': '29', 'pages': '992--1023', 'ENTRYTYPE': 'article', 'ID': 'Gunsteren1990'}, 'Gunsteren1996': {'title': 'Biomolecular Simulation: The GROMOS96 Manual and User Guide', 'author': 'van Gunsteren, Wilfred F and Billeter, SR and Eising, AA and H{\\\\\"u}nenberger, PH and Kr{\\\\\"u}ger, PKHC and Mark, AE and Scott, WRP and Tironi, IG', 'year': '1996', 'journal': 'Vdf. Hochschulverlag. AG. ETH. Z{\\\\\"u}rich. Z{\\\\\"u}rich.', 'volume': '86', 'pages': '1--1044', 'ENTRYTYPE': 'article', 'ID': 'Gunsteren1996'}, 'Gunsteren2008': {'title': 'Molecular Simulation as an Aid to Experimentalists', 'author': 'van Gunsteren, Wilfred F. and Dolenc, J{\\\\u o}zica and Mark, Alan E', 'year': '2008', 'journal': 'Curr. Opin. Struct. Biol.', 'volume': '18', 'pages': '149--153', 'ENTRYTYPE': 'article', 'ID': 'Gunsteren2008'}, 'Hansen2014': {'title': 'Practical Aspects of Free-Energy Calculations: A Review', 'author': 'Hansen, Niels and van Gunsteren, Wilfred F.', 'year': '2014', 'journal': 'J. Chem. Theory. Comput.', 'volume': '10', 'pages': '2632--2647', 'ENTRYTYPE': 'article', 'ID': 'Hansen2014'}, 'Hastings1970': {'title': 'Monte Carlo Sampling Methods Using Markov Chains and Their Applications', 'author': 'Hastings, W. Keith', 'year': '1970', 'journal': 'Biometrika.', 'volume': '57', 'pages': '97 -- 109', 'ENTRYTYPE': 'article', 'ID': 'Hastings1970'}, 'Helmholtz1882': {'title': 'Die Thermodynamik Chemischer Vorg\\\\\"Ange', 'author': 'von Helmholtz, Hermann', 'year': '1882', 'publisher': 'Sitz. K. Akad. Wiss. Berlin', 'ENTRYTYPE': 'book', 'ID': 'Helmholtz1882'}, 'Hess1997': {'title': 'LINCS: A Linear Constraint Solver for Molecular Simulations', 'author': 'Hess, Berk and Bekker, Henk and Berendsen, Herman J. C. and Fraaije, Johannes G. E. M.', 'year': '1997', 'journal': 'J. Comput. Chem.', 'volume': '18', 'pages': '1463--1472', 'ENTRYTYPE': 'article', 'ID': 'Hess1997'}, 'Hestenes1952': {'title': 'Methods of Conjugate Gradients for Solving Linear Systems', 'author': 'Hestenes, Magnus R and Stiefel, Eduard', 'year': '1952', 'journal': 'J. Re. Natl. Bur. Stand.', 'volume': '49', 'pages': '409--436', 'ENTRYTYPE': 'article', 'ID': 'Hestenes1952'}, 'Hockney1970': {'title': 'The Potential Calculation and Some Applications', 'author': ' Hockney, R. W.', 'year': '1970', 'publisher': 'Methods Comput. Phys. ', 'ENTRYTYPE': 'book', 'ID': 'Hockney1970', 'volume': '9'}, 'Hollingsworth2018': {'title': 'Molecular Dynamics Simulation for All', 'author': 'Hollingsworth, Scott A. and Dror, Ron O.', 'year': '2018', 'journal': 'Neuron.', 'volume': '99', 'pages': '1129--1143', 'ENTRYTYPE': 'article', 'ID': 'Hollingsworth2018'}, 'Hong2020': {'title': 'Understanding DNA Interactions in Crowded Environments With a Coarse-Grained Model', 'author': 'Hong, Fan and Schreck, John S. and {\\\\v S}ulc, Petr', 'year': '2020', 'journal': 'Nucleic. Acid. Re.', 'volume': '48', 'pages': '10726--10738', 'ENTRYTYPE': 'article', 'ID': 'Hong2020'}, 'Hoover1985': {'title': 'Canonical Dynamics: Equilibrium Phase-Space Distributions', 'author': 'Hoover, William G.', 'year': '1985', 'journal': 'Phys. Rev. A.', 'volume': '31', 'pages': '1695--1697', 'ENTRYTYPE': 'article', 'ID': 'Hoover1985'}, 'Hyeon2011': {'title': 'Capturing the Essence of Folding and Functions of Biomolecules Using Coarse-Grained Models', 'author': 'Hyeon, Changbong\\nand Thirumalai, D.', 'year': '2011', 'journal': 'Nat. Commun.', 'volume': '2', 'pages': '487', 'ENTRYTYPE': 'article', 'ID': 'Hyeon2011'}, 'Iozzi2009': {'title': 'Assessment of Theoretical Methods for the Determination of the Mechanochemical Strength of Covalent Bonds', 'author': 'Iozzi, Maria Francesca  and  Helgaker, Trygve and  Uggerud, Einar ', 'year': '2009', 'journal': 'Mol. Phys.', 'volume': '107', 'pages': '2537--2546', 'ENTRYTYPE': 'article', 'ID': 'Iozzi2009'}, 'Jacobsen2007': {'title': 'NMR Spectroscopy Explained: Simplified Theory, Applications and Examples for Organic Chemistry and Structural Biology', 'author': 'Jacobsen, Neil E.', 'year': '2007', 'publisher': 'John Wiley \\\\& Sons', 'ENTRYTYPE': 'book', 'ID': 'Jacobsen2007'}, 'Jones1924': {'title': 'On the Determination of Molecular Fields. I. From the Variation of the Viscosity of a Gas With Temperature', 'author': 'Jones, J. E.', 'year': '1924', 'journal': 'Proc. R. Soc. Lond.', 'volume': '106', 'pages': '441--462', 'ENTRYTYPE': 'article', 'ID': 'Jones1924'}, 'Jorgensen1983': {'title': 'Comparison of Simple Potential Functions for Simulating Liquid Water', 'author': 'Jorgensen, William L.  and Chandrasekhar, Jayaraman  and Madura, Jeffry D.  and Impey, Roger W.  and Klein, Michael L. ', 'year': '1983', 'journal': 'J. Chem. Phys.', 'volume': '79', 'pages': '926--935', 'ENTRYTYPE': 'article', 'ID': 'Jorgensen1983'}, 'Jorgensen1988': {'title': 'The OPLS [Optimized Potentials for Liquid Simulations] Potential Functions for Proteins, Energy Minimizations for Crystals of Cyclic Peptides and Crambin', 'author': 'Jorgensen, William L. and Tirado-Rives, Julian', 'year': '1988', 'journal': 'J. Am. Chem. Soc.', 'volume': '110', 'pages': '1657--1666', 'ENTRYTYPE': 'article', 'ID': 'Jorgensen1988'}, 'Jorgensen1996': {'title': 'Development and Testing of the OPLS All-Atom Force Field on Conformational Energetics and Properties of Organic Liquids', 'author': 'Jorgensen, William L. and Maxwell, David S. and Tirado-Rives, Julian', 'year': '1996', 'journal': 'J. Am. Chem. Soc.', 'volume': '118', 'pages': '11225--11236', 'ENTRYTYPE': 'article', 'ID': 'Jorgensen1996'}, 'Jorgensen2005': {'title': 'Potential Energy Functions for Atomic-Level Simulations of Water and Organic and Biomolecular Systems', 'author': 'Jorgensen, William L. and Tirado-Rives, Julian', 'year': '2005', 'journal': 'Proc. Natl. Acad. Sci. USA.', 'volume': '102', 'pages': '6665--6670', 'ENTRYTYPE': 'article', 'ID': 'Jorgensen2005'}, 'Karplus2002': {'title': 'Molecular Dynamics Simulations of Biomolecules', 'author': 'Karplus, Martin and McCammon, J. Andrew', 'year': '2002', 'journal': 'Nat. Struct. Biology.', 'volume': '9', 'pages': '646--652', 'ENTRYTYPE': 'article', 'ID': 'Karplus2002'}, 'Kawai2016': {'title': 'Van Der Waals Interactions and the Limits of Isolated Atom Models at Interfaces', 'author': 'Kawai, Shigeki\\nand Foster, Adam S.\\nand Bj{\\\\\"o}rkman, Torbj{\\\\\"o}rn\\nand Nowakowska, Sylwia\\nand Bj{\\\\\"o}rk, Jonas\\nand Canova, Filippo Federici\\nand Gade, Lutz H.\\nand Jung, Thomas A.\\nand Meyer, Ernst', 'year': '2016', 'journal': 'Nat. Comm.', 'volume': '7', 'pages': '11559', 'ENTRYTYPE': 'article', 'ID': 'Kawai2016'}, 'Kazemi2015': {'title': 'Chemical Reaction Mechanisms in Solution From Brute Force Computational Arrhenius Plots', 'author': 'Kazemi, Masoud\\nand {\\\\AA}qvist, Johan', 'year': '2015', 'journal': 'Nat. Commun.', 'volume': '6', 'pages': '7293', 'ENTRYTYPE': 'article', 'ID': 'Kazemi2015'}, 'Kendrew1958': {'title': 'A Three-Dimensional Model of the Myoglobin Molecule Obtained by X-Ray Analysis', 'author': 'Kendrew, John C. and Bodo, G. and Dintzis, Howard M. and Parrish, R. G. and Wyckoff, Harold and Phillips, David C.', 'year': '1958', 'journal': 'Nature.', 'volume': '181', 'pages': '662--666', 'ENTRYTYPE': 'article', 'ID': 'Kendrew1958'}, 'Kirkwood1935': {'title': 'Statistical Mechanics of Fluid Mixtures', 'author': 'Kirkwood, John G.', 'year': '1935', 'journal': 'J. Chem. Phys.', 'volume': '3', 'pages': '300--313', 'ENTRYTYPE': 'article', 'ID': 'Kirkwood1935'}, 'Kollman1993': {'title': 'Free Energy Calculations: Applications to Chemical and Biochemical Phenomena', 'author': 'Kollman, Peter', 'year': '1993', 'journal': 'Chem. Rev.', 'volume': '93', 'pages': '2395--2417', 'ENTRYTYPE': 'article', 'ID': 'Kollman1993'}, 'Kuhlbrandt2014': {'title': 'The Resolution Revolution', 'author': 'Werner K{\\\\\"u}hlbrandt ', 'year': '2014', 'journal': 'Science.', 'volume': '343', 'pages': '1443--1444', 'ENTRYTYPE': 'article', 'ID': 'Kuhlbrandt2014'}, 'Ladd1977': {'title': 'Structure Determination by X-Ray Crystallography', 'author': 'Ladd, Marcus Frederick Charles and Palmer, Rex Alfred and Palmer, Rex Alfred', 'year': '1977', 'publisher': 'Springer', 'ENTRYTYPE': 'book', 'ID': 'Ladd1977'}, 'Leach2001': {'title': 'Molecular Modelling -- Principles and Applications', 'author': 'Leach, Andrew R.', 'year': '2001', 'publisher': 'Pearson Education Limited', 'ENTRYTYPE': 'book', 'ID': 'Leach2001'}, 'Leimkuhler1996': {'title': 'Integration Methods for Molecular Dynamics', 'author': 'Leimkuhler, Benedict J.\\nand Reich, Sebastian\\nand Skeel, Robert D.', 'year': '1996', 'ENTRYTYPE': 'inbook', 'ID': 'Leimkuhler1996', 'publisher': 'Springer New York', 'pages': '161--185', 'booktitle': 'Mathematical Approaches to Biomolecular Structure and Dynamics'}, 'Levitt1969': {'title': 'Refinement of Protein Conformations Using a Macromolecular Energy Minimization Procedure', 'author': 'Michael Levitt and Shneior Lifson', 'year': '1969', 'journal': 'J. Mol. Biol.', 'volume': '46', 'pages': '269--279', 'ENTRYTYPE': 'article', 'ID': 'Levitt1969'}, 'Li2008': {'title': 'Noncovalent Assembly of a Metalloporphyrin and an Iron Hydrogenase Active-Site Model: Photo-Induced Electron Transfer and Hydrogen Generation', 'author': 'Li, Xueqiang and Wang, Mei and Zhang, Suping and Pan, Jingxi and Na, Yong and Liu, Jianhui and {\\\\AA}kermark, Bj{\\\\\"o}rn and Sun, Licheng', 'year': '2008', 'journal': 'J. Chem. Phys.', 'volume': '112', 'pages': '8198--8202', 'ENTRYTYPE': 'article', 'ID': 'Li2008'}, 'Lindorfflarsen2010': {'title': 'Improved Side-Chain Torsion Potentials for the Amber Ff99SB Protein Force Field. Proteins', 'author': 'Lindorff-Larsen, K. and Piana, S. and Palmo, K. and Maragakis, P. and Klepeis, J.L. and Dror, R.O. and Shaw, D.E.', 'year': '2010', 'journal': 'J. Am. Chem. Soc.', 'volume': '78', 'pages': '1950--1958', 'ENTRYTYPE': 'article', 'ID': 'Lindorfflarsen2010'}, 'Lipinski2001': {'title': 'Experimental and Computational Approaches to Estimate Solubility and Permeability in Drug Discovery and Development Settings', 'author': 'Lipinski, Christopher A.  and Lombardo, Franco and Dominy, Beryl W and Feeney, Paul J', 'year': '2001', 'journal': 'Adv. Drug. Deliv. Rev.', 'volume': '46', 'pages': '3--26', 'ENTRYTYPE': 'article', 'ID': 'Lipinski2001'}, 'Mackerell1995': {'title': 'An All-Atom Empirical Energy Function for the Simulation of Nucleic Acid', 'author': 'MacKerell Jr, Alexander D. and Wiorkiewicz-Kuczera, Joanna and Karplus, Martin', 'year': '1995', 'journal': 'J. Am. Chem. Soc.', 'volume': '117', 'pages': '11946--11975', 'ENTRYTYPE': 'article', 'ID': 'Mackerell1995'}, 'Mackerell1998': {'title': 'All-Atom Empirical Potential for Molecular Modeling and Dynamics Studies of Proteins', 'author': 'MacKerell, A. D. and Bashford, D. and Bellott, M. and Dunbrack, R. L. and Evanseck, J. D. and Field, M. J. and Fischer, S. and Gao, J. and Guo, H. and Ha, S. and Joseph-McCarthy, D. and Kuchnir, L. and Kuczera, K. and Lau, F. T. K. and Mattos, C. and Michnick, S. and Ngo, T. and Nguyen, D. T. and Prodhom, B. and Reiher, W. E. and Roux, B. and Schlenkrich, M. and Smith, J. C. and Stote, R. and Straub, J. and Watanabe, M. and Wiorkiewicz-Kuczera, J. and Yin, D. and Karplus, M.', 'year': '1998', 'journal': 'J. Phys. Chem.', 'volume': '102', 'pages': '3586--3616', 'ENTRYTYPE': 'article', 'ID': 'Mackerell1998'}, 'Mackerell2004': {'title': 'Empirical Force Fields for Biological Macromolecules: Overview and Issues', 'author': 'Mackerell, Jr. and Alexander, D.', 'year': '2004', 'journal': 'J. Comp. Chem.', 'volume': '25', 'pages': '1584--1604', 'ENTRYTYPE': 'article', 'ID': 'Mackerell2004'}, 'Malde2011': {'title': 'An Automated Force Field Topology Builder (ATB) and Repository: Version 1.0', 'author': 'Malde, Alpeshkumar K. and Zuo, Le and Breeze, Matthew and Stroet, Martin and Poger, David and Nair, Pramod C. and Oostenbrink, Chris and Mark, Alan E.', 'year': '2011', 'journal': 'J. Chem. Theory. Comput.', 'volume': '7', 'pages': '4026--4037', 'ENTRYTYPE': 'article', 'ID': 'Malde2011'}, 'Margenau1939': {'title': 'Van Der Waals Forces', 'author': 'Margenau, H.', 'year': '1939', 'journal': 'Rev. Mod. Phys.', 'volume': '11', 'pages': '1--35', 'ENTRYTYPE': 'article', 'ID': 'Margenau1939'}, 'Markwick2008': {'title': 'Structural Biology by NMR: Structure, Dynamics, and Interactions', 'author': \"Markwick, Phineus R. L. AND Malliavin, Th{\\\\'e}r{\\\\textasciigrave e}se AND Nilges, Michael\", 'year': '2008', 'journal': 'Plo. Comput. Biol.', 'volume': '4', 'pages': '1--7', 'ENTRYTYPE': 'article', 'ID': 'Markwick2008'}, 'Marrink1996': {'title': 'Permeation Process of Small Molecules Across Lipid Membranes Studied by Molecular Dynamics Simulations', 'author': 'Marrink, Siewert J. and Berendsen, Herman J. C.', 'year': '1996', 'journal': 'J. Phys. Chem.', 'volume': '100', 'pages': '16729--16738', 'ENTRYTYPE': 'article', 'ID': 'Marrink1996'}, 'Martyna1992': {'title': \"Nos\\\\'E-Hoover Chains: The Canonical Ensemble via Continuous Dynamics\", 'author': 'Martyna,Glenn J.  and Klein,Michael L.  and Tuckerman,Mark ', 'year': '1992', 'journal': 'J. Chem. Phys.', 'volume': '97', 'pages': '2635--2643', 'ENTRYTYPE': 'article', 'ID': 'Martyna1992'}, 'Mccammon1977': {'title': 'Dynamics of Folded Proteins', 'author': 'McCammon, J. Andrew\\nand Gelin, Bruce R.\\nand Karplus, Martin', 'year': '1977', 'journal': 'Nature.', 'volume': '267', 'pages': '585--590', 'ENTRYTYPE': 'article', 'ID': 'Mccammon1977'}, 'Meel2008': {'title': 'Harvesting Graphics Power for MD Simulations', 'author': 'van Meel, J.A.  and Arnold, A. and Frenkel, D. and Portegies Zwart,  S.F.  and Belleman, R.G. ', 'year': '2008', 'journal': 'Mol. Simul.', 'volume': '34', 'pages': '259--266', 'ENTRYTYPE': 'article', 'ID': 'Meel2008'}, 'Meier2021': {'title': 'Use of Free Energy Methods in the Drug Discovery Industry', 'author': 'Meier, Katharina and Bluck, Joseph P. and Christ, Clara D.', 'year': '2021', 'ENTRYTYPE': 'inbook', 'ID': 'Meier2021', 'publisher': 'ACS Publications', 'pages': '39-66', 'booktitle': 'Free Energy Methods in Drug Discovery: Current State and Future Directions'}, 'Metropolis1953': {'title': 'Equation of State Calculations by Fast Computing Machines', 'author': 'Metropolis, Nicholas  and Rosenbluth, Arianna W.  and Rosenbluth, Marshall N.  and Teller, Augusta H.  and Teller, Edward ', 'year': '1953', 'journal': 'J. Chem. Phys.', 'volume': '21', 'pages': '1087--1092', 'ENTRYTYPE': 'article', 'ID': 'Metropolis1953'}, 'Miyamoto1992': {'title': 'Settle: An Analytical Version of the SHAKE and RATTLE Algorithm for Rigid Water Models', 'author': 'Miyamoto, Shuichi and Kollman, Peter A.', 'year': '1992', 'journal': 'J. Comput. Chem.', 'volume': '13', 'pages': '952--962', 'ENTRYTYPE': 'article', 'ID': 'Miyamoto1992'}, 'Morse1929': {'title': 'Diatomic Molecules According to the Wave Mechanics. II. Vibrational Levels', 'author': 'Morse, Philip M.', 'year': '1929', 'journal': 'Phys. Rev.', 'volume': '34', 'pages': '57--64', 'ENTRYTYPE': 'article', 'ID': 'Morse1929'}, 'Naray2003': {'title': 'Computer Modelling of Enzyme Reactions', 'author': \"G{\\\\'a}bor N{\\\\'r}ay-Szab{\\\\'a}nd, Imre Berente\", 'year': '2003', 'journal': 'J. Mol. Struct.', 'volume': '666--667', 'pages': '637--644', 'ENTRYTYPE': 'article', 'ID': 'Naray2003'}, 'Naylor2017': {'title': 'Cyclic Peptide Natural Products Chart the Frontier of Oral Bioavailability in the Pursuit of Undruggable Targets', 'author': 'Naylor, Matthew R. and Bockus, Andrew T. and Blanco, Maria-Jesus and Lokey, R. Scott', 'year': '2017', 'journal': 'Curr. Opin. Chem. Biology.', 'volume': '38', 'pages': '141--147', 'ENTRYTYPE': 'article', 'ID': 'Naylor2017'}, 'Newton1726': {'title': 'Philosophi\\\\ae Naturalis Principia Mathematica ', 'author': ' Newton, Isaac ', 'year': ' 1726 ', 'publisher': ' Innys ', 'ENTRYTYPE': 'book', 'ID': 'Newton1726'}, 'Nose1983': {'title': 'Constant Pressure Molecular Dynamics for Molecular Systems', 'author': \" Nos{\\\\'e}, Shuichi  and Klein, M.L. \", 'year': '1983', 'journal': 'Mol. Phys.', 'volume': '50', 'pages': '1055--1076', 'ENTRYTYPE': 'article', 'ID': 'Nose1983'}, 'Nose1984': {'title': 'A Molecular Dynamics Method for Simulations in the Canonical Ensemble', 'author': \" Nos{\\\\'e}, Sh{\\\\= u}ichi \", 'year': '1984', 'journal': 'Mol. Phys.', 'volume': '52', 'pages': '255--268', 'ENTRYTYPE': 'article', 'ID': 'Nose1984'}, 'Nose1984A': {'title': 'A Unified Formulation of the Constant Temperature Molecular Dynamics Methods', 'author': \"Nos{\\\\'e}, Shuichi \", 'year': '1984', 'journal': 'J. Chem. Phys.', 'volume': '81', 'pages': '511--519', 'ENTRYTYPE': 'article', 'ID': 'Nose1984A'}, 'Oostenbrink2004': {'title': 'A Biomolecular Force Field Based on the Free Enthalpy of Hydration and Solvation: The GROMOS Force-Field Parameter Sets 53A5 and 53A6', 'author': 'Oostenbrink, Chris and Villa, Alessandra and Mark, Alan E. and Van Gunsteren, Wilfred F.', 'year': '2004', 'journal': 'J. Comp. Chem.', 'volume': '25', 'pages': '1656--1676', 'ENTRYTYPE': 'article', 'ID': 'Oostenbrink2004'}, 'Parrinello1981': {'title': 'Polymorphic Transitions in Single Crystals: A New Molecular Dynamics Method', 'author': 'Parrinello,M.  and Rahman,A. ', 'year': '1981', 'journal': 'Int. J. Appl. Phys.', 'volume': '52', 'pages': '7182--7190', 'ENTRYTYPE': 'article', 'ID': 'Parrinello1981'}, 'Pauling1931': {'title': 'The Nature of the Chemical Bond. Application of Results Obtained From the Quantum Mechanics and From a Theory of Paramagnetic Susceptibility to the Structure of Molecules', 'author': 'Pauling, Linus', 'year': '1931', 'journal': 'J. Am. Chem. Soc.', 'volume': '53', 'pages': '1367--1400', 'ENTRYTYPE': 'article', 'ID': 'Pauling1931'}, 'Pauling1934': {'title': 'Covalent Radii of Atoms and Interatomic Distances in Crystals Containing Electron-Pair Bonds', 'author': 'Pauling, Linus and Huggins, M. L.', 'year': '1934', 'journal': 'Z. Krist. Cryst. Mater.', 'volume': '87', 'pages': '205--238', 'ENTRYTYPE': 'article', 'ID': 'Pauling1934'}, 'Pauling1951': {'title': 'Atomic Coordinates and Structure Factors for Two Helical Configurations of Polypeptide Chains', 'author': 'Pauling, L.\\nand Corey, R. B.', 'year': '1951', 'journal': 'Proc. National. Acad. Sci. u. s. Am.', 'volume': '37', 'pages': '235--240', 'ENTRYTYPE': 'article', 'ID': 'Pauling1951'}, 'Pearlman1995': {'title': 'AMBER, a Package of Computer Programs for Applying Molecular Mechanics, Normal Mode Analysis, Molecular Dynamics and Free Energy Calculations to Simulate the Structural and Energetic Properties of Molecules', 'author': 'Pearlman, David A. and Case, David A. and Caldwell, James W. and Ross, Wilson S. and Cheatham III, Thomas E. and DeBolt, Steve and Ferguson, David and Seibel, George and Kollman, Peter', 'year': '1995', 'journal': 'Comput. Phys. Commun.', 'volume': '91', 'pages': '1--41', 'ENTRYTYPE': 'article', 'ID': 'Pearlman1995'}, 'Phillips1981': {'year': '1981', 'title': 'Biomolecular Stereodynamics', 'publisher': 'Adenine Press: Guilderland, NY', 'author': 'Phillips, D', 'ENTRYTYPE': 'misc', 'ID': 'Phillips1981'}, 'Ponder2003': {'title': 'Force Fields for Protein Simulations', 'author': 'Ponder, Jay W. and Case, David A.', 'year': '2003', 'ENTRYTYPE': 'incollection', 'ID': 'Ponder2003', 'publisher': 'Academic Press', 'pages': '27--85', 'booktitle': 'Protein Simulations'}, 'Poongavanam2018': {'title': 'Conformational Sampling of Macrocyclic Drugs in Different Environments: Can We Find the Relevant Conformations?', 'author': 'Poongavanam, Vasanthanathan and Danelius, Emma and Peintner, Stefan and Alcaraz, Lilian and Caron, Giulia and Cummings, Maxwell D. and Wlodek, Stanislaw and Erdelyi, Mate and Hawkins, Paul C. D. and Ermondi, Giuseppe and Kihlberg, Jan', 'year': '2018', 'journal': 'AC. Omega.', 'volume': '3', 'pages': '11742--11757', 'ENTRYTYPE': 'article', 'ID': 'Poongavanam2018'}, 'Qiu2021': {'title': 'Development and Benchmarking of Open Force Field V1.0.0 -- The Parsley Small-Molecule Force Field', 'author': 'Qiu, Yudong and Smith, Daniel G. A. and Boothroyd, Simon and Jang, Hyesu and Hahn, David F. and Wagner, Jeffrey and Bannan, Caitlin C. and Gokey, Trevor and Lim, Victoria T. and Stern, Chaya D. and Rizzi, Andrea and Tjanaka, Bryon and Tresadern, Gary and Lucas, Xavier and Shirts, Michael R. and Gilson, Michael K. and Chodera, John D. and Bayly, Christopher I. and Mobley, David L. and Wang, Lee-Ping', 'year': '2021', 'journal': 'J. Chem. Theory. Comput.', 'volume': '17', 'pages': '6262--6280', 'ENTRYTYPE': 'article', 'ID': 'Qiu2021'}, 'Riniker2018': {'title': 'Fixed-Charge Atomistic Force Fields for Molecular Dynamics Simulations in the Condensed Phase: An Overview', 'author': 'Riniker, Sereina', 'year': '2018', 'journal': 'J. Chem. Inf. Model.', 'volume': '58', 'pages': '565--578', 'ENTRYTYPE': 'article', 'ID': 'Riniker2018'}, 'Rivera2019': {'title': \"ONIOM(QM:QM') Electrostatic Embedding Schemes for Photochemistry in Molecular Crystals\", 'author': 'Rivera, Miguel and Dommett, Michael and Crespo-Otero, Rachel', 'year': '2019', 'journal': 'J. Chem. Theo. Comp.', 'volume': '15', 'pages': '2504--2516', 'ENTRYTYPE': 'article', 'ID': 'Rivera2019'}, 'Ryckaert1977': {'title': 'Numerical Integration of the Cartesian Equations of Motion of a System With Constraints: Molecular Dynamics of N-Alkanes', 'author': 'Jean-Paul Ryckaert and Giovanni Ciccotti and Herman J.C Berendsen', 'year': '1977', 'journal': 'J. Comp. Chem.', 'volume': '23', 'pages': '327--341', 'ENTRYTYPE': 'article', 'ID': 'Ryckaert1977'}, 'Ryde2003': {'title': 'Combined Quantum and Molecular Mechanics Calculations on Metalloproteins', 'author': 'Ulf Ryde', 'year': '2003', 'journal': 'Curr. Opin. Struct. Biol.', 'volume': '7', 'pages': '136--142', 'ENTRYTYPE': 'article', 'ID': 'Ryde2003'}, 'Schenkmayerova2021': {'title': 'Engineering the Protein Dynamics of an Ancestral Luciferase', 'author': 'Schenkmayerova, Andrea\\nand Pinto, Gaspar P.\\nand Toul, Martin\\nand Marek, Martin\\nand Hernychova, Lenka\\nand Planas-Iglesias, Joan\\nand Daniel Liskova, Veronika\\nand Pluskal, Daniel\\nand Vasina, Michal\\nand Emond, Stephane\\nand D{\\\\\"o}rr, Mark\\nand Chaloupkova, Radka\\nand Bednar, David\\nand Prokop, Zbynek\\nand Hollfelder, Florian\\nand Bornscheuer, Uwe T.\\nand Damborsky, Jiri', 'year': '2021', 'journal': 'Nat. Commun.', 'volume': '12', 'pages': '3616', 'ENTRYTYPE': 'article', 'ID': 'Schenkmayerova2021'}, 'Schmid2011': {'title': 'Definition and Testing of the GROMOS Force-Field Versions 54A7 and 54B7', 'author': 'Schmid, Nathan\\nand Eichenberger, Andreas P.\\nand Choutko, Alexandra\\nand Riniker, Sereina\\nand Winger, Moritz\\nand Mark, Alan E.\\nand van Gunsteren, Wilfred F.', 'year': '2011', 'journal': 'Eur. Biophys. J.', 'volume': '40', 'pages': '843', 'ENTRYTYPE': 'article', 'ID': 'Schmid2011'}, 'Schmid2012': {'title': 'Architecture, Implementation and Parallelization of the GROMOS Software for Biomolecular Simulation', 'author': 'N. Schmid and C. D. Christ and M. Christen and A. P. Eichenberger and W. F. van Gunsteren', 'year': '2012', 'journal': 'Comp. Phys. Comm.', 'volume': '183', 'pages': '890--903', 'ENTRYTYPE': 'article', 'ID': 'Schmid2012'}, 'Schuler2001': {'title': 'An Improved GROMOS96 Force Field for Aliphatic Hydrocarbons in the Condensed Phase', 'author': 'Schuler, Lukas D. and Daura, Xavier and van Gunsteren, Wilfred F.', 'year': '2001', 'journal': 'J. Comp. Chem.', 'volume': '22', 'pages': '1205--1218', 'ENTRYTYPE': 'article', 'ID': 'Schuler2001'}, 'Senn2009': {'title': 'QM/MM Methods for Biomolecular Systems', 'author': 'Senn, Hans Martin and Thiel, Walter', 'year': '2009', 'journal': 'Angew. Chem. Int. Ed.', 'volume': '48', 'pages': '1198--1229', 'ENTRYTYPE': 'article', 'ID': 'Senn2009'}, 'Shen2009': {'title': 'Insights Into Crowding Effects on Protein Stability From a Coarse-Grained Model', 'author': 'Shen, Vincent K. and Cheung, Jason K. and Errington, Jeffrey R. and Truskett, Thomas M.', 'year': '2009', 'journal': 'J. Biomech. Eng.', 'volume': '131', 'pages': '071002--1 -- 071002--6', 'ENTRYTYPE': 'article', 'ID': 'Shen2009'}, 'Sheng2020': {'title': 'Mechanism of Biocatalytic Friedel-Crafts Acylation by Acyltransferase From Pseudomonas Protegens', 'author': 'Sheng, Xiang and Kazemi, Masoud and {\\\\. Z}{\\\\k a}d{\\\\l}o-Dobrowolska, Anna and Kroutil, Wolfgang and Himo, Fahmi', 'year': '2020', 'journal': 'AC. Catal.', 'volume': '10', 'pages': '570--577', 'ENTRYTYPE': 'article', 'ID': 'Sheng2020'}, 'Shi2014': {'title': 'A Glimpse of Structural Biology Through X-Ray Crystallography', 'author': 'Yigong Shi', 'year': '2014', 'journal': 'Cell.', 'volume': '159', 'pages': '995--1014', 'ENTRYTYPE': 'article', 'ID': 'Shi2014'}, 'Slater1931': {'title': 'Molecular Energy Levels and Valence Bonds', 'author': 'Slater, J. C.', 'year': '1931', 'journal': 'Phys. Rev.', 'volume': '38', 'pages': '1109--1144', 'ENTRYTYPE': 'article', 'ID': 'Slater1931'}, 'Sprenger2015': {'title': 'The General AMBER Force Field (GAFF) Can Accurately Predict Thermodynamic and Transport Properties of Many Ionic Liquids', 'author': 'Sprenger, KG and Jaeger, Vance W. and Pfaendtner, Jim', 'year': '2015', 'journal': 'J. Phys. Chem.', 'volume': '119', 'pages': '5882--5895', 'ENTRYTYPE': 'article', 'ID': 'Sprenger2015'}, 'Strauss1970': {'title': 'Conformational Structure, Energy, and Inversion Rates of Cyclohexane and Some Related Oxanes', 'author': 'Strauss, Herbert L. and Pickett, Herbert M.', 'year': '1970', 'journal': 'J. Am. Chem. Soc.', 'volume': '92', 'pages': '7281--7290', 'ENTRYTYPE': 'article', 'ID': 'Strauss1970'}, 'Stroet2018': {'title': 'Automated Topology Builder Version 3.0: Prediction of Solvation Free Enthalpies in Water and Hexane', 'author': 'Stroet, Martin and Caron, Bertrand and Visscher, Koen M. and Geerke, Daan P. and Malde, Alpeshkumar K. and Mark, Alan E.', 'year': '2018', 'journal': 'J. Chem. Theory. Comput.', 'volume': '14', 'pages': '5834--5845', 'ENTRYTYPE': 'article', 'ID': 'Stroet2018'}, 'Sugita2021': {'title': 'Large-Scale Membrane Permeability Prediction of Cyclic Peptides Crossing a Lipid Bilayer Based on Enhanced Sampling Molecular Dynamics Simulations', 'author': 'Sugita, Masatake and Sugiyama, Satoshi and Fujie, Takuya and Yoshikawa, Yasushi and Yanagisawa, Keisuke and Ohue, Masahito and Akiyama, Yutaka', 'year': '2021', 'journal': 'J. Chem. Inf. Model.', 'volume': '61', 'pages': '3681--3695', 'ENTRYTYPE': 'article', 'ID': 'Sugita2021'}, 'Tembre1984': {'title': 'Ligand-Receptor Interactions', 'author': 'Tembre, Bhalachandra L. and Mc Cammon, J.Andrew', 'year': '1984', 'journal': 'Comput. Chem.', 'volume': '8', 'pages': '281--283', 'ENTRYTYPE': 'article', 'ID': 'Tembre1984'}, 'Tironi1995': {'title': 'A Generalized Reaction Field Method for Molecular Dynamics Simulations', 'author': \"Tironi,Ilario G.  and Sperb, Ren{\\\\'e}  and Smith,Paul E.  and van Gunsteren,Wilfred F. \", 'year': '1995', 'journal': 'J. Chem. Phys.', 'volume': '102', 'pages': '5451--5459', 'ENTRYTYPE': 'article', 'ID': 'Tironi1995'}, 'Torchia1984': {'title': 'Solid State NMR Studies of Protein Internal Dynamics', 'author': 'Torchia, Dennis A.', 'year': '1984', 'journal': 'Annu. rev. biophys. bioeng.', 'volume': '13', 'pages': '125--144', 'ENTRYTYPE': 'article', 'ID': 'Torchia1984'}, 'Tozzini2005': {'title': 'Coarse-Grained Models for Proteins', 'author': 'Tozzini, Valentina', 'year': '2005', 'journal': 'Curr. Opin. Struct. Biol.', 'volume': '15', 'pages': '144--150', 'ENTRYTYPE': 'article', 'ID': 'Tozzini2005'}, 'Vanommeslaeghe2010': {'title': 'CHARMM General Force Field: A Force Field for Drug-Like Molecules Compatible With the CHARMM All-Atom Additive Biological Force Fields', 'author': 'Vanommeslaeghe, K.\\nand Hatcher, E.\\nand Acharya, C.\\nand Kundu, S.\\nand Zhong, S.\\nand Shim, J.\\nand Darian, E.\\nand Guvench, O.\\nand Lopes, P.\\nand Vorobyov, I.\\nand Mackerell Jr., A. D.', 'year': '2010', 'journal': 'J. Comp. Chem.', 'volume': '31', 'pages': '671--690', 'ENTRYTYPE': 'article', 'ID': 'Vanommeslaeghe2010'}, 'Wagner1997': {'title': 'An Account of NMR in Structural Biology', 'author': 'Wagner, G.', 'year': '1997', 'journal': 'Nat. Struct.', 'volume': '4', 'pages': '841--844', 'ENTRYTYPE': 'article', 'ID': 'Wagner1997'}, 'Wang2021': {'title': 'Effect of Flexibility, Lipophilicity, and the Location of Polar Residues on the Passive Membrane Permeability of a Series of Cyclic Decapeptides', 'author': 'Wang, Shuzhe and K{\\\\\"o}nig, Gerhard and Roth, Hans-J{\\\\\"o}rg and Fouch{\\\\\\'e}, Marianne and Rodde, Stephane and Riniker, Sereina', 'year': '2021', 'journal': 'J. Med. Chem.', 'volume': '64', 'pages': '12761--12773', 'ENTRYTYPE': 'article', 'ID': 'Wang2021'}, 'Watson1953': {'title': 'Molecular Structure of Nucleic Acids: A Structure for Deoxyribose Nucleic Acid', 'author': 'Watson, J. D.\\nand Crick, F. H. C.', 'year': '1953', 'journal': 'Nature.', 'volume': '171', 'pages': '737--738', 'ENTRYTYPE': 'article', 'ID': 'Watson1953'}, 'Weiner1981': {'title': 'AMBER: Assisted Model Building With Energy Refinement. A General Program for Modeling Molecules and Their Interactions', 'author': 'Weiner, Paul K. and Kollman, Peter A.', 'year': '1981', 'journal': 'J. Comput. Chem.', 'volume': '2', 'pages': '287--303', 'ENTRYTYPE': 'article', 'ID': 'Weiner1981'}, 'Weiner1984': {'title': 'A New Force Field for Molecular Mechanical Simulation of Nucleic Acids and Proteins', 'author': 'Weiner, Scott J. and Kollman, Peter A. and Case, David A. and Singh, U. Chandra and Ghio, Caterina and Alagona, Guliano and Profeta, Salvatore and Weiner, Paul', 'year': '1984', 'journal': 'J. Am. Chem. Soc.', 'volume': '106', 'pages': '765--784', 'ENTRYTYPE': 'article', 'ID': 'Weiner1984'}, 'Witek2016': {'title': 'Kinetic Models of Cyclosporin a in Polar and Apolar Environments Reveal Multiple Congruent Conformational States', 'author': 'Witek, Jagna and Keller, Bettina G. and Blatter, Markus and Meissner, Axel and Wagner, Trixie and Riniker, Sereina', 'year': '2016', 'journal': 'J. Chem. Inf. Model.', 'volume': '56', 'pages': '1547--1562', 'ENTRYTYPE': 'article', 'ID': 'Witek2016'}, 'Witek2017': {'title': 'Interconversion Rates Between Conformational States as Rationale for the Membrane Permeability of Cyclosporines', 'author': 'Witek, Jagna and M{\\\\\"u}hlbauer, Max and Keller, Bettina G. and Blatter, Markus and Meissner, Axel and Wagner, Trixie and Riniker, Sereina', 'year': '2017', 'journal': '. . . . . Chemphyschem.', 'volume': '18', 'pages': '3309--3314', 'ENTRYTYPE': 'article', 'ID': 'Witek2017'}, 'Witek2019': {'title': 'Rationalization of the Membrane Permeability Differences in a Series of Analogue Cyclic Decapeptides', 'author': 'Witek, Jagna and Wang, Shuzhe and Schroeder, Benjamin and Lingwood, Robin and Dounas, Andreas and Roth, Hans-J{\\\\\"o}rg and Fouch{\\\\\\'e}, Marianne and Blatter, Markus and Lemke, Oliver and Keller, Bettina and Riniker, Sereina', 'year': '2019', 'journal': 'J. Chem. Inf. Model.', 'volume': '59', 'pages': '294--308', 'ENTRYTYPE': 'article', 'ID': 'Witek2019'}, 'Wuthrich1975': {'title': 'NMR Investigations of the Dynamics of the Aromatic Amino Acid Residues in the Basic Pancreatic Trypsin Inhibitor', 'author': 'W{\\\\\"u}thrich, K. and Wagner, G.', 'year': '1975', 'journal': 'FEB. Lett.', 'volume': '50', 'pages': '265--268', 'ENTRYTYPE': 'article', 'ID': 'Wuthrich1975'}, 'Ytreberg2006': {'title': 'Simple Estimation of Absolute Free Energies for Biomolecules', 'author': 'Ytreberg, F. Marty and Zuckerman, Daniel M.', 'year': '2006', 'journal': 'J. Chem. Phys.', 'volume': '124', 'pages': '1--9', 'ENTRYTYPE': 'article', 'ID': 'Ytreberg2006'}, 'Zwanzig1954': {'title': 'High-Temperature Equation of State by a Pertubation Method. I. Nonpolar Gases', 'author': 'Zwanzig, Robert W.', 'year': '1954', 'journal': 'J. Chem. Phys.', 'volume': '22', 'pages': '1420--1426', 'ENTRYTYPE': 'article', 'ID': 'Zwanzig1954'}, 'Allen2017': {'title': 'Computer Simulation of Liquids', 'author': ' Allen, Michael P. and Tildesley, Dominic J.', 'year': '2017', 'publisher': 'OUP Oxford', 'ENTRYTYPE': 'book', 'ID': 'Allen2017', 'edition': '2'}, 'Lomize2019': {'title': 'Physics-Based Method for Modeling Passive Membrane Permeability and Translocation Pathways of Bioactive Molecules', 'author': 'Lomize, Andrei L. and Pogozheva, Irina D.', 'year': '2019', 'journal': 'J. Chem. Inf. Model.', 'volume': '59', 'pages': '3198--3213', 'ENTRYTYPE': 'article', 'ID': 'Lomize2019'}, 'Hoang2021': {'title': 'Connecting Hydrophobic Surfaces in Cyclic Peptides Increases Membrane Permeability', 'author': 'Hoang, Huy N. and Hill, Timothy A. and Fairlie, David P.', 'year': '2021', 'journal': 'Angew. Chem. Int. Ed.', 'volume': '60', 'pages': '8385--8390', 'ENTRYTYPE': 'article', 'ID': 'Hoang2021'}}\n"
     ]
    }
   ],
   "source": [
    "print(bib_database.entries_dict)"
   ]
  },
  {
   "cell_type": "markdown",
   "metadata": {},
   "source": [
    "# Clean for Duplicates!"
   ]
  },
  {
   "cell_type": "code",
   "execution_count": 18,
   "metadata": {
    "collapsed": false,
    "jupyter": {
     "outputs_hidden": false
    },
    "pycharm": {
     "name": "#%%\n"
    }
   },
   "outputs": [
    {
     "name": "stdout",
     "output_type": "stream",
     "text": [
      "Filter DB for duplicates\n",
      "\tBefore Elements in DB:  142\n",
      "\tAfter Elements in DB:  142\n"
     ]
    }
   ],
   "source": [
    "from reffix.database_functions import remove_duplicates\n",
    "\n",
    "bib_database = remove_duplicates(bib_database)"
   ]
  },
  {
   "cell_type": "markdown",
   "metadata": {},
   "source": [
    "# Check for required!"
   ]
  },
  {
   "cell_type": "code",
   "execution_count": 19,
   "metadata": {},
   "outputs": [
    {
     "name": "stdout",
     "output_type": "stream",
     "text": [
      "Filter DB for used in TEX\n",
      "\tBefore Elements in DB:  142\n",
      "\tAfter Elements in DB:  141\n"
     ]
    }
   ],
   "source": [
    "from reffix.database_functions import get_used_citations, filter_database_for_required_citations\n",
    "\n",
    "#get all used citations\n",
    "unique_citations = get_used_citations(in_tex_file_path)\n",
    "\n",
    "#remove not used citations from DB\n",
    "bib_database = filter_database_for_required_citations(bib_database=bib_database, used_citation_keys=unique_citations)"
   ]
  },
  {
   "cell_type": "markdown",
   "metadata": {},
   "source": [
    "# Write out nice Latex"
   ]
  },
  {
   "cell_type": "code",
   "execution_count": 20,
   "metadata": {
    "pycharm": {
     "name": "#%%\n"
    }
   },
   "outputs": [
    {
     "name": "stdout",
     "output_type": "stream",
     "text": [
      "Number of Entries:  141\n"
     ]
    }
   ],
   "source": [
    "print(\"Number of Entries: \", len(bib_database.entries))\n",
    "with open(out_bib_path, 'w', encoding=\"utf-8\") as bibtex_file:\n",
    "    bibtexparser.dump(bib_database, bibtex_file)\n"
   ]
  },
  {
   "cell_type": "code",
   "execution_count": null,
   "metadata": {
    "pycharm": {
     "name": "#%%\n"
    }
   },
   "outputs": [],
   "source": []
  }
 ],
 "metadata": {
  "kernelspec": {
   "display_name": "Python 3 (ipykernel)",
   "language": "python",
   "name": "python3"
  },
  "language_info": {
   "codemirror_mode": {
    "name": "ipython",
    "version": 3
   },
   "file_extension": ".py",
   "mimetype": "text/x-python",
   "name": "python",
   "nbconvert_exporter": "python",
   "pygments_lexer": "ipython3",
   "version": "3.9.7"
  }
 },
 "nbformat": 4,
 "nbformat_minor": 4
}

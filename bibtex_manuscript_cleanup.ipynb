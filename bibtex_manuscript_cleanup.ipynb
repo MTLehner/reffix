{
 "cells": [
  {
   "cell_type": "code",
   "execution_count": 1,
   "metadata": {},
   "outputs": [],
   "source": [
    "#imports\n",
    "import os\n",
    "import bibtexparser\n",
    "\n",
    "#try:\n",
    "#    import bibtexparser\n",
    "#except:\n",
    "#    ! conda install -c conda-forge bibtexparse"
   ]
  },
  {
   "cell_type": "code",
   "execution_count": 2,
   "metadata": {
    "pycharm": {
     "name": "#%%\n"
    },
    "scrolled": true
   },
   "outputs": [
    {
     "name": "stdout",
     "output_type": "stream",
     "text": [
      "in Path: C:\\Users\\thier\\Documents\\GitHub\\serenityff-charge_latex\\bibi.bib\n",
      "in Path: ./fixed_ref/cleanManuscript.bib\n"
     ]
    }
   ],
   "source": [
    "#PATHs\n",
    "in_bib_path=\"C:\\\\Users\\\\thier\\\\Documents\\\\GitHub\\\\serenityff-charge_latex\\\\bibi.bib\"\n",
    "in_tex_file_path = \"C:\\\\Users\\\\thier\\\\Documents\\\\GitHub\\\\serenityff-charge_latex\\\\main.tex\"\n",
    "\n",
    "out_dir = \"./fixed_ref\"\n",
    "if(not os.path.exists(out_dir)): os.mkdir(out_dir)\n",
    "out_bib_path = out_dir+\"/cleanManuscript.bib\"\n",
    "\n",
    "print(\"in Path:\", in_bib_path)\n",
    "print(\"in Path:\", out_bib_path)"
   ]
  },
  {
   "attachments": {},
   "cell_type": "markdown",
   "metadata": {},
   "source": [
    "# Parsing and fixing of general things"
   ]
  },
  {
   "attachments": {},
   "cell_type": "markdown",
   "metadata": {},
   "source": [
    "## RULES"
   ]
  },
  {
   "cell_type": "code",
   "execution_count": 3,
   "metadata": {
    "pycharm": {
     "name": "#%%\n"
    }
   },
   "outputs": [
    {
     "name": "stderr",
     "output_type": "stream",
     "text": [
      "[nltk_data] Downloading package wordnet to\n",
      "[nltk_data]     C:\\Users\\thier\\AppData\\Roaming\\nltk_data...\n",
      "[nltk_data]   Package wordnet is already up-to-date!\n"
     ]
    }
   ],
   "source": [
    "from reffix.entry_rules import titelcasing_fields, journal_iso4, double_minus, capitalize_keys\n",
    "from reffix.entry_rules import check_misc_fields, check_incollection_fields, check_inproceedings_fields, check_inbook_fields, check_article_fields, check_book_fields\n",
    "from reffix.entry_rules import homogenize_latex_encoding\n",
    "from bibtexparser.customization import type as bibtexType"
   ]
  },
  {
   "cell_type": "code",
   "execution_count": 4,
   "metadata": {},
   "outputs": [],
   "source": [
    "from bibtexparser.bparser import BibTexParser\n",
    "\n",
    "def build_standardParser():\n",
    "    myParser = BibTexParser()\n",
    "\n",
    "    def rulez(record):\n",
    "        record = bibtexType(record)\n",
    "        record = capitalize_keys(record)\n",
    "\n",
    "        #record = homogenize_latex_encoding(record)\n",
    "        record = check_article_fields(record)\n",
    "        record = check_book_fields(record)\n",
    "        record = check_incollection_fields(record)\n",
    "        record = check_inproceedings_fields(record)\n",
    "        record = check_inbook_fields(record)\n",
    "\n",
    "\n",
    "        record = double_minus(record)\n",
    "        record = titelcasing_fields(record)\n",
    "        record = journal_iso4(record)\n",
    "\n",
    "        return record\n",
    "\n",
    "    myParser.customization = rulez\n",
    "    return myParser\n"
   ]
  },
  {
   "attachments": {},
   "cell_type": "markdown",
   "metadata": {},
   "source": [
    "## Load bib and Clean entries\n",
    "\n",
    "the rules are stored in the build_standardParser function"
   ]
  },
  {
   "cell_type": "code",
   "execution_count": 5,
   "metadata": {
    "pycharm": {
     "name": "#%%\n"
    }
   },
   "outputs": [],
   "source": [
    "with open(in_bib_path, \"r\", encoding=\"utf-8\") as bibtex_file:\n",
    "    bib_database = bibtexparser.load(bibtex_file, parser=build_standardParser())\n"
   ]
  },
  {
   "cell_type": "code",
   "execution_count": 6,
   "metadata": {
    "tags": []
   },
   "outputs": [
    {
     "name": "stdout",
     "output_type": "stream",
     "text": [
      "{'Amber_Ff': {'title': '{\\\\em  the Amber Biomolecular Simulation Programs  \\\\Em}', 'author': 'Case, David A. and Cheatham III, Thomas E. and Darden, Tom and Gohlke, Holger and Luo, Ray and Merz Jr., Kenneth M. and Onufriev, Alexey and Simmerling, Carlos and Wang, Bing and Woods, Robert J.', 'year': '2005', 'journal': 'J. Comput. Chem.', 'volume': '26', 'pages': '1668--1688', 'ENTRYTYPE': 'article', 'ID': 'Amber_Ff'}, 'Barker1973_Reactionfield': {'title': '{\\\\em  Monte Carlo Studies of the Dielectric Properties of Water-Like Models  \\\\Em}', 'author': ' J.A.   Barker  and  R.O.   Watts ', 'year': '1973', 'journal': 'Mol. Phys.', 'volume': '26', 'pages': '789--792', 'ENTRYTYPE': 'article', 'ID': 'Barker1973_Reactionfield'}, 'Behler2021_Hdnnps': {'title': '{\\\\em  Four Generations of High-Dimensional Neural Network Potentials  \\\\Em}', 'author': 'J\\\\\"org Behler', 'year': '2021', 'journal': 'Chem. Rev.', 'volume': '121', 'pages': '10037--10072', 'ENTRYTYPE': 'article', 'ID': 'Behler2021_Hdnnps'}, 'Bento2014_Chembl': {'title': '{\\\\em  the ChEMBL Bioactivity Database: An Update  \\\\Em}', 'author': 'A. Patrícia Bento and Anna Gaulton and Anne Hersey and Louisa J. Bellis and Jon Chambers and Mark Davies and Felix A. Krüger and Yvonne Light and Lora Mak and Shaun McGlinchey and Michal Nowotka and George Papadatos and Rita Santos and John P. Overington', 'year': '2014', 'journal': 'Nucleic. Acid. Re.', 'volume': '42', 'pages': 'D1083', 'ENTRYTYPE': 'article', 'ID': 'Bento2014_Chembl'}, 'Bleiziffer2018': {'title': '{\\\\em  Machine Learning of Partial Charges Derived From High-Quality Quantum-Mechanical Calculations  \\\\Em}', 'author': 'Patrick Bleiziffer and Kay Schaller and Sereina Riniker', 'year': '2018', 'journal': 'J. Chem. Inf. Model.', 'volume': '58', 'pages': '579--590', 'ENTRYTYPE': 'article', 'ID': 'Bleiziffer2018'}, 'Boothroyd2022Open_Evaluator': {'title': '{\\\\em  Open Force Field Evaluator: An Automated, Efficient, and Scalable Framework for the Estimation of Physical Properties From Molecular Simulation  \\\\Em}', 'author': 'Boothroyd, Simon and Wang, Lee-Ping and Mobley, David L and Chodera, John D and Shirts, Michael R', 'year': '2022', 'journal': 'J. Chem. Theory. Comput.', 'volume': '18', 'pages': '3566--3576', 'ENTRYTYPE': 'article', 'ID': 'Boothroyd2022Open_Evaluator'}, 'Charmm36_Ff': {'title': '{\\\\em  CHARMM36 All-Atom Additive Protein Force Field: Validation Based on Comparison to NMR Data  \\\\Em}', 'author': 'Jing Huang and Alexander D. Mackerell', 'year': '2013', 'journal': 'J. Comput. Chem.', 'volume': '34', 'pages': '2135--2145', 'ENTRYTYPE': 'article', 'ID': 'Charmm36_Ff'}, 'Dewar1985_Am1': {'title': '{\\\\em  AM1: A New General Purpose Quantum Mechanical Molecular Model1  \\\\Em}', 'author': 'Michael J.S. Dewar and Eve G. Zoebisch and Eamonn F. Healy and James J.P. Stewart', 'year': '1985', 'journal': 'J. Am. Chem. Soc.', 'volume': '107', 'pages': '3902--3909', 'ENTRYTYPE': 'article', 'ID': 'Dewar1985_Am1'}, 'Eastman2017_Openmm': {'title': '{\\\\em  OpenMM 7: Rapid Development of High Performance Algorithms for Molecular Dynamics  \\\\Em}', 'author': 'Peter Eastman and Jason Swails and John D. Chodera and Robert T. McGibbon and Yutong Zhao and Kyle A. Beauchamp and Lee Ping Wang and Andrew C. Simmonett and Matthew P. Harrigan and Chaya D. Stern and Rafal P. Wiewiora and Bernard R. Brooks and Vijay S. Pande', 'year': '2017', 'journal': 'Plo. Comput. Biology.', 'volume': '13', 'pages': '1', 'ENTRYTYPE': 'article', 'ID': 'Eastman2017_Openmm'}, 'Ewald1921': {'title': '{\\\\em  Die Berechnung Optischer Und Elektrostatischer Gitterpotentiale  \\\\Em}', 'author': 'Paul Peter Ewald', 'year': '1921', 'journal': 'Ann. Phys.', 'volume': '369', 'pages': '253--287', 'ENTRYTYPE': 'article', 'ID': 'Ewald1921'}, 'Fukushima1969_Relu': {'title': '{\\\\em  Visual Feature Extraction by a Multilayered Network of Analog Threshold Elements  \\\\Em}', 'author': 'Fukushima, Kunihiko', 'year': '1969', 'journal': 'IEEE. Trans. Syst. Sci. Cybern.', 'volume': '5', 'pages': '322--333', 'ENTRYTYPE': 'article', 'ID': 'Fukushima1969_Relu'}, 'Gallegos2022_Nnaimq': {'title': '{\\\\em  NNAIMQ: A Neural Network Model for Predicting QTAIM Charges  \\\\Em}', 'author': 'Miguel Gallegos and José Manuel Guevara-Vela and Ángel Martín Pendás', 'year': '2022', 'journal': 'J. Chem. Phys.', 'volume': '156', 'pages': '014112', 'ENTRYTYPE': 'article', 'ID': 'Gallegos2022_Nnaimq'}, 'Gasteiger19783181_Atomicharge': {'title': '{\\\\em  a New Model for Calculating Atomic Charges in Molecules  \\\\Em}', 'author': 'Johann Gasteiger and Mario Marsili', 'year': '1978', 'journal': 'Tetrahedron. Lett.', 'volume': '19', 'pages': '3181--3184', 'ENTRYTYPE': 'article', 'ID': 'Gasteiger19783181_Atomicharge'}, 'Halgren1996_Mmff_Og': {'title': '{\\\\em  Merck Molecular Force Field. I. Basis, Form, Scope, Parameterization, and Performance of MMFF94  \\\\Em}', 'author': 'Halgren, Thomas A.', 'year': '1996', 'journal': 'J. Comput. Chem.', 'volume': '17', 'pages': '490--519', 'ENTRYTYPE': 'article', 'ID': 'Halgren1996_Mmff_Og'}, 'Hirshfeld1977': {'title': '{\\\\em  Bonded-Atom Fragments for Describing Molecular Charge Densities  \\\\Em}', 'author': 'F. L. Hirshfeld', 'year': '1977', 'journal': 'Theor. Chim. Acta.', 'volume': '44', 'pages': '129--138', 'ENTRYTYPE': 'article', 'ID': 'Hirshfeld1977'}, 'Isert2022_Qmugs': {'title': '{\\\\em  QMugs, Quantum Mechanical Properties of Drug-Like Molecules  \\\\Em}', 'author': 'Clemens Isert and Kenneth Atz and José Jiménez-Luna and Gisbert Schneider', 'year': '2022', 'journal': 'Sci. Data. 2022. 9:1.', 'volume': '9', 'pages': '1--11', 'ENTRYTYPE': 'article', 'ID': 'Isert2022_Qmugs'}, 'Jakalian2002': {'title': '{\\\\em  Fast, Efficient Generation of High-Quality Atomic Charges. AM1-BCC Model: II. Parameterization and Validation  \\\\Em}', 'author': 'Araz Jakalian and David B. Jack and Christopher I. Bayly', 'year': '2002', 'journal': 'J. Comput. Chem.', 'volume': '23', 'pages': '1623--1641', 'ENTRYTYPE': 'article', 'ID': 'Jakalian2002'}, 'Jiang2022_Gnn_Partial_Charge': {'title': '{\\\\em  {Out-of-the-Box Deep Learning Prediction of Quantum-Mechanical Partial Charges by Graph Representation and Transfer Learning}  \\\\Em}', 'author': 'Jiang, Dejun and Sun, Huiyong and Wang, Jike and Hsieh, Chang-Yu and Li, Yuquan and Wu, Zhenxing and Cao, Dongsheng and Wu, Jian and Hou, Tingjun', 'year': '2022', 'journal': 'Br. Bioinform.', 'volume': '23', 'pages': '1', 'ENTRYTYPE': 'article', 'ID': 'Jiang2022_Gnn_Partial_Charge'}, 'Kearnes2016_Molecular_Graph_Convolution': {'title': '{\\\\em  Molecular Graph Convolutions: Moving Beyond Fingerprints  \\\\Em}', 'author': 'Steven Kearnes and Kevin McCloskey and Marc Berndl and Vijay Pande and Patrick Riley', 'year': '2016', 'journal': 'J. Comput. Mol.', 'volume': '30', 'pages': '595--608', 'ENTRYTYPE': 'article', 'ID': 'Kearnes2016_Molecular_Graph_Convolution'}, 'Kingma2014_Adam_Optimizer': {'title': '{\\\\em  Adam: A Method for Stochastic Optimization  \\\\Em}', 'author': 'Diederik P. Kingma and Jimmy Lei Ba', 'year': '2014', 'journal': '3rd. Int. Conf. Learn. Represent. ICLR. 2015. . Conf. Track. Proc.', 'volume': '1412.6980', 'pages': '9', 'ENTRYTYPE': 'article', 'ID': 'Kingma2014_Adam_Optimizer'}, 'Landrum2023_Rdkit': {'title': '{\\\\em  Rdkit (Q3 2022) Release  \\\\Em}', 'author': 'Greg Landrum and Paolo Tosco and Brian Kelley and Ric and sriniker and gedeck and David Cosgrove and Riccardo Vianello and NadineSchneider and Eisuke Kawashima and Dan N and Andrew Dalke and Gareth Jones and Brian Cole and Matt Swain and Samo Turk and AlexanderSavelyev and Alain Vaucher and Maciej Wójcikowski and Ichiru Take and Daniel Probst and Vincent F. Scalfani and Kazuya Ujihara and guillaume godin and Axel Pahl and Francois Berenger and JLVarjo and jasondbiggs and strets123 and JP', 'year': '2023', 'journal': 'Zenodo.', 'volume': '7671152', 'pages': '1', 'ENTRYTYPE': 'article', 'ID': 'Landrum2023_Rdkit'}, 'Lundberg2017_Shap_Explainer': {'title': '{\\\\em  a Unified Approach to Interpreting Model Predictions  \\\\Em}', 'author': 'Scott M. Lundberg and Su In Lee', 'year': '2017', 'journal': 'Adv. Neural. Inf. Process. Syst.', 'volume': '2017-December', 'pages': '4766--4775', 'ENTRYTYPE': 'article', 'ID': 'Lundberg2017_Shap_Explainer'}, 'Manz2015_Ddec': {'title': '{\\\\em  DDEC6: A Method for Computing Even-Tempered Net Atomic Charges in Periodic and Nonperiodic Materials  \\\\Em}', 'author': 'Thomas A. Manz and Nidia Gabaldon Limas', 'year': '2015', 'journal': 'arXiv.', 'volume': '1512', 'pages': '08270', 'ENTRYTYPE': 'article', 'ID': 'Manz2015_Ddec'}, 'Mou2021_Biomolscans': {'title': '{\\\\em  Machine Learning-Based Prediction of Enzyme Substrate Scope: Application to Bacterial Nitrilases  \\\\Em}', 'author': 'Mou, Zhongyu and Eakes, Jason and Cooper, Connor J. and Foster, Carmen M. and Standaert, Robert F. and Podar, Mircea and Doktycz, Mitchel J. and Parks, Jerry M.', 'year': '2021', 'journal': 'Protein. Struct. Funct. Bioinform.', 'volume': '89', 'pages': '336--347', 'ENTRYTYPE': 'article', 'ID': 'Mou2021_Biomolscans'}, 'Openff_Parsley': {'title': '{\\\\em  Development and Benchmarking of Open Force Field V1.0.0—the Parsley Small-Molecule Force Field  \\\\Em}', 'author': 'Qiu, Yudong and Smith, Daniel G. A. and Boothroyd, Simon and Jang, Hyesu and Hahn, David F. and Wagner, Jeffrey and Bannan, Caitlin C. and Gokey, Trevor and Lim, Victoria T. and Stern, Chaya D. and Rizzi, Andrea and Tjanaka, Bryon and Tresadern, Gary and Lucas, Xavier and Shirts, Michael R. and Gilson, Michael K. and Chodera, John D. and Bayly, Christopher I. and Mobley, David L. and Wang, Lee-Ping', 'year': '2021', 'journal': 'J. Chem. Theory. Comput.', 'volume': '17', 'pages': '6262--6280', 'ENTRYTYPE': 'article', 'ID': 'Openff_Parsley'}, 'Opls_Forcefield': {'title': '{\\\\em  Development and Testing of the OPLS All-Atom Force Field on Conformational Energetics and Properties of Organic Liquids  \\\\Em}', 'author': 'Jorgensen, William L. and Maxwell, David S. and Tirado-Rives, Julian', 'year': '1996', 'journal': 'J. Am. Chem. Soc.', 'volume': '118', 'pages': '11225--11236', 'ENTRYTYPE': 'article', 'ID': 'Opls_Forcefield'}, 'Ribeiro2016_Lime_Explainer': {'title': '{\\\\em  \"Why Should I Trust You?\": Explaining the Predictions of Any Classifier  \\\\Em}', 'author': 'Marco Tulio Ribeiro and Sameer Singh and Carlos Guestrin', 'year': '2016', 'journal': 'NAACL-HLT. 2016. . 2016. Conf. North. Am. Chapter. Assoc. Comput. Linguistics. Hum. Lang. Technol. Proc. Demonstr. Sess.', 'volume': '1602.04938', 'pages': '97--101', 'ENTRYTYPE': 'article', 'ID': 'Ribeiro2016_Lime_Explainer'}, 'Riniker2018': {'title': '{\\\\em  Fixed-Charge Atomistic Force Fields for Molecular Dynamics Simulations in the Condensed Phase: An Overview  \\\\Em}', 'author': 'Sereina Riniker', 'year': '2018', 'journal': 'J. Chem. Inf. Model.', 'volume': '58', 'pages': '565--578', 'ENTRYTYPE': 'article', 'ID': 'Riniker2018'}, 'Rosenblatt1963_Mlp': {'title': '{\\\\em  PRINCIPLES OF NEURODYNAMICS. PERCEPTRONS AND THE THEORY OF BRAIN MECHANISMS  \\\\Em}', 'author': 'Frank Rosenblatt', 'year': '1963', 'journal': 'Am. J. Psychol.', 'volume': '76', 'pages': '705', 'ENTRYTYPE': 'article', 'ID': 'Rosenblatt1963_Mlp'}, 'Ruddigkeit2012': {'title': '{\\\\em  Enumeration of 166 Billion Organic Small Molecules in the Chemical Universe Database GDB-17  \\\\Em}', 'author': 'Ruddigkeit, Lars and van Deursen, Ruud and Blum, Lorenz C. and Reymond, Jean-Louis', 'year': '2012', 'journal': 'J. Chem. Inf. Model.', 'volume': '52', 'pages': '2864--2875', 'ENTRYTYPE': 'article', 'ID': 'Ruddigkeit2012'}, 'Sterling2015_Zinc': {'title': '{\\\\em  ZINC 15 – Ligand Discovery for Everyone  \\\\Em}', 'author': 'Sterling, Teague and Irwin, John J.', 'year': '2015', 'journal': 'J. Chem. Inf. Model.', 'volume': '55', 'pages': '2324--2337', 'ENTRYTYPE': 'article', 'ID': 'Sterling2015_Zinc'}, 'Tosco2014_Mmff94Inrdkit': {'title': '{\\\\em Bringing the MMFF Force Field to the RDKit: Implementation and Validation \\\\Em}', 'author': 'Paolo Tosco and Nikolaus Stiefl and Gregory Landrum', 'year': '2014', 'journal': 'J. Cheminform.', 'volume': '6', 'pages': '37', 'ENTRYTYPE': 'article', 'ID': 'Tosco2014_Mmff94Inrdkit'}, 'Turney2012_Psi4': {'title': '{\\\\em  Psi4: An Open-Source Ab Initio Electronic Structure Program  \\\\Em}', 'author': 'Justin M. Turney and Andrew C. Simmonett and Robert M. Parrish and Edward G. Hohenstein and Francesco A. Evangelista and Justin T. Fermann and Benjamin J. Mintz and Lori A. Burns and Jeremiah J. Wilke and Micah L. Abrams and Nicholas J. Russ and Matthew L. Leininger and Curtis L. Janssen and Edward T. Seidl and Wesley D. Allen and Henry F. Schaefer and Rollin A. King and Edward F. Valeev and C. David Sherrill and T. Daniel Crawford', 'year': '2012', 'journal': 'Wiley. Interdiscip. Rev. Comput. Mol. Sci.', 'volume': '2', 'pages': '556--565', 'ENTRYTYPE': 'article', 'ID': 'Turney2012_Psi4'}, 'Verstraelen2016_Mbis': {'title': '{\\\\em  Minimal Basis Iterative Stockholder: Atoms in Molecules for Force-Field Development  \\\\Em}', 'author': 'Toon Verstraelen and Steven Vandenbrande and Farnaz Heidar-Zadeh and Louis Vanduyfhuys and Veronique Van Speybroeck and Michel Waroquier and Paul W. Ayers', 'year': '2016', 'journal': 'J. Chem. Theory. Comput.', 'volume': '12', 'pages': '3894--3912', 'ENTRYTYPE': 'article', 'ID': 'Verstraelen2016_Mbis'}, 'Wan2004_Qsar': {'title': '{\\\\em  Quantitative Structure-Activity Relationship for Cyclic Imide Derivatives of Protoporphyrinogen Oxidase Inhibitors: A Study of Quantum Chemical Descriptors From Density Functional Theory  \\\\Em}', 'author': 'Jian Wan and Li Zhang and Guangfu Yang and Chang Guo Zhan', 'year': '2004', 'journal': 'J. Chem. Inf. Comput. Sci.', 'volume': '44', 'pages': '2099--2105', 'ENTRYTYPE': 'article', 'ID': 'Wan2004_Qsar'}, 'Xiong2020_Attentivefp': {'title': '{\\\\em  Pushing the Boundaries of Molecular Representation for Drug Discovery With the Graph Attention Mechanism  \\\\Em}', 'author': 'Zhaoping Xiong and Dingyan Wang and Xiaohong Liu and Feisheng Zhong and Xiaozhe Wan and Xutong Li and Zhaojun Li and Xiaomin Luo and Kaixian Chen and Hualiang Jiang and Mingyue Zheng', 'year': '2020', 'journal': 'J. Med. Chem.', 'volume': '63', 'pages': '8749--8760', 'ENTRYTYPE': 'article', 'ID': 'Xiong2020_Attentivefp'}, 'Ying_Gnnexplainer': {'title': '{\\\\em  GNNExplainer: Generating Explanations for Graph Neural Networks  \\\\Em}', 'author': 'Rex Ying and Dylan Bourgeois and Jiaxuan You and Marinka Zitnik and Jure Leskovec', 'year': '2017', 'journal': 'arXiv.', 'volume': '1903.03894', 'pages': '4', 'ENTRYTYPE': 'article', 'ID': 'Ying_Gnnexplainer'}, 'Mobley2018Escapingperception': {'title': '{\\\\em Escaping Atom Types in Force Fields Using Direct Chemical Perception \\\\Em}', 'author': 'Mobley, David L and Bannan, Caitlin C and Rizzi, Andrea and Bayly, Christopher I and Chodera, John D and Lim, Victoria T and Lim, Nathan M and Beauchamp, Kyle A and Slochower, David R and Shirts, Michael R and Gilson, Michael K and Eastman, Peter K', 'year': '2018', 'journal': 'J. Chem. Theory. Comput.', 'volume': '14', 'pages': '6076--6092', 'ENTRYTYPE': 'article', 'ID': 'Mobley2018Escapingperception'}, 'Am1Bcc': {'title': '{\\\\em Fast, Efficient Generation of High-Quality Atomic Charges. {AM1-BCC} Model: II. Parameterization and Validation \\\\Em}', 'author': 'Jakalian, Araz and Jack, David B. and Bayly, Christopher I.', 'year': '2002', 'journal': 'J. Comput. Chem.', 'volume': '23', 'pages': '1623--1641', 'ENTRYTYPE': 'article', 'ID': 'Am1Bcc'}, 'Case2022Amber2022': {'year': '2022', 'title': '{\\\\em {AMBER 2022} \\\\Em}', 'institution': 'University of California, San Francisco', 'author': \"Case, D A and  Aktulga, H M  and  Belfon, K and  Ben-Shalom, I Y and  Berryman, J T and  Brozell, S R  and  Cerutti, D S  and  Cheatham, T E  and  {III} and  Cisneros, G A  and  Cruzeiro, V W D  and  Darden, T A  and  Duke, R E  and  Giambasu, G and  Gilson, M K  and  Gohlke, H  and  Goetz, A W  and  Harris, R  and  Izadi, S  and  Izmailov, S A  and Kasavajhala, K  and Kaymak, M C  and King, E  and Kovalenko, A  and Kurtzman, T  and Lee, T S  and LeGrand, S  and Li, P  and Lin, C  and Liu, J  and Luchko, T  and Luo, R  and Machado, M  and Man, V  and Manathunga, M  and Merz, K M  and Miao, Y  and Mikhailovskii, O  and Monard, G  and Nguyen, H  and O'Hearn, K A  and Onufriev, A  and Pan, F  and Pantano, S  and Qi, R  and Rahnamoun, A  and Roe, D R  and Roitberg, A  and Sagui, C  andSchott-Verdugo, S  and  Shajan, A  and Shen, J  and Simmerling, C L  and Skrynnikov, N R  and Smith, J  and Swails, J  and Walker, R C  and  Wang, J  and  Wang, J  and Wei, H  and  Wolf, R M  and Wu, X  and Xiong, Y  and  Xue, Y  and  York, D M  and Zhao, S  and Kollman, P A\", 'ENTRYTYPE': 'misc', 'ID': 'Case2022Amber2022'}, 'Landrum2023_Rdkit2': {'title': '{\\\\em Rdkit (Q3 2022) Release \\\\Em}', 'author': 'Greg Landrum and Paolo Tosco and Brian Kelley and Ric and sriniker and gedeck and David Cosgrove and Riccardo Vianello and NadineSchneider and Eisuke Kawashima and Dan N and Andrew Dalke and Gareth Jones and Brian Cole and Matt Swain and Samo Turk and AlexanderSavelyev and Alain Vaucher and Maciej Wójcikowski and Ichiru Take and Daniel Probst and Vincent F. Scalfani and Kazuya Ujihara and guillaume godin and Axel Pahl and Francois Berenger and JLVarjo and jasondbiggs and strets123 and JP', 'year': '2023', 'journal': 'Zenodo.', 'volume': '7671152', 'pages': '1', 'ENTRYTYPE': 'article', 'ID': 'Landrum2023_Rdkit2'}, 'Smoothpme': {'title': '{\\\\em A Smooth Particle Mesh Ewald Method \\\\Em}', 'author': 'Essmann, Ulrich and Perera, Lalith and Berkowitz, Max L. and Darden, Tom and Lee, Hsing and Pedersen, Lee G.', 'year': '1995', 'journal': 'J. Chem. Phys.', 'volume': '103', 'pages': '8577--8593', 'ENTRYTYPE': 'article', 'ID': 'Smoothpme'}, 'Xtbgfn2': {'title': '{\\\\em {GFN}2-x{TB}—An Accurate and Broadly Parametrized Self-Consistent Tight-Binding Quantum Chemical Method With Multipole Electrostatics and Density-Dependent Dispersion Contributions \\\\Em}', 'author': 'Bannwarth, Christoph and Ehlert, Sebastian and Grimme, Stefan', 'year': '2019', 'journal': 'J. Chem. Theory. Comput.', 'volume': '15', 'pages': '1652--1671', 'ENTRYTYPE': 'article', 'ID': 'Xtbgfn2'}, 'Mmff94': {'title': '{\\\\em Merck Molecular Force Field. II. MMFF94 Van Der Waals and Electrostatic Parameters for Intermolecular Interactions \\\\Em}', 'author': 'Halgren, Thomas A.', 'year': '1996', 'journal': 'J. Comput. Chem.', 'volume': '17', 'pages': '520--552', 'ENTRYTYPE': 'article', 'ID': 'Mmff94'}, 'Resp': {'title': '{\\\\em A Well-Behaved Electrostatic Potential Based Method Using Charge Restraints for Deriving Atomic Charges: The RESP Model \\\\Em}', 'author': 'Bayly, Christopher I. and Cieplak, Piotr and Cornell, Wendy and Kollman, Peter A.', 'year': '1993', 'journal': 'J. Phys. Chem.', 'volume': '97', 'pages': '10269--10280', 'ENTRYTYPE': 'article', 'ID': 'Resp'}, 'Mulliken': {'title': '{\\\\em Electronic Population Analysis on {LCAO–MO} Molecular Wave Functions. {I} \\\\Em}', 'author': 'Mulliken, R. S.', 'year': '2004', 'journal': 'J. Chem. Phys.', 'volume': '23', 'pages': '1833--1840', 'ENTRYTYPE': 'article', 'ID': 'Mulliken'}, 'Tpssh': {'title': '{\\\\em Comparative Assessment of a New Nonempirical Density Functional: Molecules and Hydrogen-Bonded Complexes \\\\Em}', 'author': 'Staroverov, Viktor N. and Scuseria, Gustavo E. and Tao, Jianmin and Perdew, John P.', 'year': '2003', 'journal': 'J. Chem. Phys.', 'volume': '119', 'pages': '12129--12137', 'ENTRYTYPE': 'article', 'ID': 'Tpssh'}, 'Def2Tzvp1': {'title': '{\\\\em Balanced Basis Sets of Split Valence{,} Triple Zeta Valence and Quadruple Zeta Valence Quality for H to Rn: Design and Assessment of Accuracy \\\\Em}', 'author': 'Weigend, Florian and Ahlrichs, Reinhart', 'year': '2005', 'journal': 'Phys. Chem. Chem. Phys.', 'volume': '7', 'pages': '3297--3305', 'ENTRYTYPE': 'article', 'ID': 'Def2Tzvp1'}, 'Def2Tzvp2': {'title': '{\\\\em Accurate Coulomb-Fitting Basis Sets for H to Rn \\\\Em}', 'author': 'Weigend, Florian', 'year': '2006', 'journal': 'Phys. Chem. Chem. Phys.', 'volume': '8', 'pages': '1057--1065', 'ENTRYTYPE': 'article', 'ID': 'Def2Tzvp2'}, 'Vangunsteren2013_Biosimff': {'title': '{\\\\em Computer Simulation of Biomolecular Systems: Theoretical and Experimental Applications \\\\Em}', 'author': 'van Gunsteren, Wilfred F and Weiner, Paul K and Wilkinson, Anthony J', 'year': '2013', 'journal': 'Springer. Sci. . Bus. Media.', 'volume': '3', 'pages': '1--394', 'ENTRYTYPE': 'article', 'ID': 'Vangunsteren2013_Biosimff'}, 'Mackerell2001Computationalff': {'title': '{\\\\em In Computational Biochemistry and Biophysics \\\\Em}', 'author': 'MacKerell Jr, AD and Nilsson, L', 'year': '2001', 'journal': 'Becker. OM.', 'volume': '1', 'pages': '7--38', 'ENTRYTYPE': 'article', 'ID': 'Mackerell2001Computationalff'}, 'Ponder2003Ff_Proteinsim': {'title': '{\\\\em Force Fields for Protein Simulations \\\\Em}', 'author': 'Ponder, Jay W and Case, David A', 'year': '2003', 'journal': 'Adv. Protein. Chem.', 'volume': '66', 'pages': '27--85', 'ENTRYTYPE': 'article', 'ID': 'Ponder2003Ff_Proteinsim'}, 'Mackerell2004Empiricalff': {'title': '{\\\\em Empirical Force Fields for Biological Macromolecules: Overview and Issues \\\\Em}', 'author': 'MacKerell Jr, Alexander D', 'year': '2004', 'journal': 'J. Comput. Chem.', 'volume': '25', 'pages': '1584--1604', 'ENTRYTYPE': 'article', 'ID': 'Mackerell2004Empiricalff'}, 'Jorgensen2005Efunc_Ff': {'title': '{\\\\em Potential Energy Functions for Atomic-Level Simulations of Water and Organic and Biomolecular Systems \\\\Em}', 'author': 'Jorgensen, William L and Tirado-Rives, Julian', 'year': '2005', 'journal': 'Proc. National. Acad. Sci.', 'volume': '102', 'pages': '6665--6670', 'ENTRYTYPE': 'article', 'ID': 'Jorgensen2005Efunc_Ff'}, 'Vangunsteren2012_35Yearsff': {'title': '{\\\\em Thirty-Five Years of Biomolecular Simulation: Development of Methodology, Force Fields and Software \\\\Em}', 'author': 'van Gunsteren, Wilfred F and Dolenc, Jo{\\\\v{z}}ica', 'year': '2012', 'journal': 'Mol. Simul.', 'volume': '38', 'pages': '1271--1281', 'ENTRYTYPE': 'article', 'ID': 'Vangunsteren2012_35Yearsff'}, 'Rai2013Charge_Prediction_Regression_Ml_Charges': {'title': '{\\\\em Fast and Accurate Generation of Ab Initio Quality Atomic Charges Using Nonparametric Statistical Regression \\\\Em}', 'author': 'Rai, Brajesh K and Bakken, Gregory A', 'year': '2013', 'journal': 'J. Comput. Chem.', 'volume': '34', 'pages': '1661--1671', 'ENTRYTYPE': 'article', 'ID': 'Rai2013Charge_Prediction_Regression_Ml_Charges'}, 'Kato2020Ml_Charges': {'title': '{\\\\em High-Precision Atomic Charge Prediction for Protein Systems Using Fragment Molecular Orbital Calculation and Machine Learning \\\\Em}', 'author': 'Kato, Koichiro and Masuda, Tomohide and Watanabe, Chiduru and Miyagawa, Naoki and Mizouchi, Hideo and Nagase, Shumpei and Kamisaka, Kikuko and Oshima, Kanji and Ono, Satoshi and Ueda, Hiroshi and others', 'year': '2020', 'journal': 'J. Chem. Inf. Model.', 'volume': '60', 'pages': '3361--3368', 'ENTRYTYPE': 'article', 'ID': 'Kato2020Ml_Charges'}, 'Martin2019Contradrg_Ml_Charges': {'title': '{\\\\em ContraDRG: Automatic Partial Charge Prediction by Machine Learning \\\\Em}', 'author': 'Martin, Roman and Heider, Dominik', 'year': '2019', 'journal': 'Front. Genet.', 'volume': '10', 'pages': '990', 'ENTRYTYPE': 'article', 'ID': 'Martin2019Contradrg_Ml_Charges'}, 'Wang2023Espaloma_Ml_Charge': {'title': '{\\\\em EspalomaCharge: Machine Learning-Enabled Ultra-Fast Partial Charge Assignment \\\\Em}', 'author': \"Wang, Yuanqing and Pulido, Iv{\\\\'a}n and Takaba, Kenichiro and Kaminow, Benjamin and Scheen, Jenke and Wang, Lily and Chodera, John D\", 'year': '2023', 'journal': 'arXiv.', 'volume': '2302', 'pages': '06758', 'ENTRYTYPE': 'article', 'ID': 'Wang2023Espaloma_Ml_Charge'}, 'Caleman2012Vanderspoel_Data': {'title': '{\\\\em Force Field Benchmark of Organic Liquids: Density, Enthalpy of Vaporization, Heat Capacities, Surface Tension, Isothermal Compressibility, Volumetric Expansion Coefficient, and Dielectric Constant \\\\Em}', 'author': 'Caleman, Carl and Van Maaren, Paul J and Hong, Minyan and Hub, Jochen S and Costa, Luciano T and Van Der Spoel, David', 'year': '2012', 'journal': 'J. Chem. Theory. Comput.', 'volume': '8', 'pages': '61--74', 'ENTRYTYPE': 'article', 'ID': 'Caleman2012Vanderspoel_Data'}, 'Horta2016Gromos2016H66_Organic_Liquids': {'title': '{\\\\em A GROMOS-compatible Force Field for Small Organic Molecules in the Condensed Phase: The 2016H66 Parameter Set \\\\Em}', 'author': 'Horta, Bruno AC and Merz, Pascal T and Fuchs, Patrick FJ and Dolenc, Jozica and Riniker, Sereina and H\\\\\"unenberger, Philippe H', 'year': '2016', 'journal': 'J. Chem. Theory. Comput.', 'volume': '12', 'pages': '3825--3850', 'ENTRYTYPE': 'article', 'ID': 'Horta2016Gromos2016H66_Organic_Liquids'}, 'Schuler2000Gromos_Alkanes': {'title': '{\\\\em On the Choice of Dihedral Angle Potential Energy Functions for N-Alkanes \\\\Em}', 'author': 'Schuler, Lukas D and Van Gunsteren, Wilfred F', 'year': '2000', 'journal': 'Mol. Simul.', 'volume': '25', 'pages': '301--319', 'ENTRYTYPE': 'article', 'ID': 'Schuler2000Gromos_Alkanes'}, 'Moine2017Estimation': {'title': '{\\\\em Estimation of Solvation Quantities From Experimental Thermodynamic Data: Development of the Comprehensive CompSol Databank for Pure and Mixed Solutes \\\\Em}', 'author': 'Moine, Edouard and Privat, Romain and Sirjean, Baptiste and Jaubert, Jean-No{\\\\\"e}l', 'year': '2017', 'journal': 'J. Phys. Chem. Ref. Data.', 'volume': '46', 'pages': '033102', 'ENTRYTYPE': 'article', 'ID': 'Moine2017Estimation'}, 'Wang2004Gaff': {'title': '{\\\\em Development and Testing of a General Amber Force Field \\\\Em}', 'author': 'Wang, Junmei and Wolf, Romain M and Caldwell, James W and Kollman, Peter A and Case, David A', 'year': '2004', 'journal': 'J. Comput. Chem.', 'volume': '25', 'pages': '1157--1174', 'ENTRYTYPE': 'article', 'ID': 'Wang2004Gaff'}}\n"
     ]
    }
   ],
   "source": [
    "print(bib_database.entries_dict)"
   ]
  },
  {
   "attachments": {},
   "cell_type": "markdown",
   "metadata": {},
   "source": [
    "# Clean for Duplicates!"
   ]
  },
  {
   "cell_type": "code",
   "execution_count": 7,
   "metadata": {
    "collapsed": false,
    "jupyter": {
     "outputs_hidden": false
    },
    "pycharm": {
     "name": "#%%\n"
    }
   },
   "outputs": [
    {
     "name": "stdout",
     "output_type": "stream",
     "text": [
      "Filter DB for duplicates\n",
      "\tBefore Elements in DB:  64\n",
      "\tAfter Elements in DB:  64\n"
     ]
    }
   ],
   "source": [
    "from reffix.database_functions import remove_duplicates\n",
    "\n",
    "bib_database = remove_duplicates(bib_database)"
   ]
  },
  {
   "attachments": {},
   "cell_type": "markdown",
   "metadata": {},
   "source": [
    "# Check for required!"
   ]
  },
  {
   "cell_type": "code",
   "execution_count": 8,
   "metadata": {},
   "outputs": [
    {
     "name": "stdout",
     "output_type": "stream",
     "text": [
      "Filter DB for used in TEX\n",
      "\tBefore Elements in DB:  64\n",
      "\tAfter Elements in DB:  59\n"
     ]
    }
   ],
   "source": [
    "from reffix.database_functions import get_used_citations, filter_database_for_required_citations\n",
    "\n",
    "#get all used citations\n",
    "unique_citations = get_used_citations(in_tex_file_path)\n",
    "\n",
    "#remove not used citations from DB\n",
    "bib_database = filter_database_for_required_citations(bib_database=bib_database, used_citation_keys=unique_citations)"
   ]
  },
  {
   "attachments": {},
   "cell_type": "markdown",
   "metadata": {},
   "source": [
    "# Write out nice Latex"
   ]
  },
  {
   "cell_type": "code",
   "execution_count": 9,
   "metadata": {
    "pycharm": {
     "name": "#%%\n"
    }
   },
   "outputs": [
    {
     "name": "stdout",
     "output_type": "stream",
     "text": [
      "Number of Entries:  59\n"
     ]
    }
   ],
   "source": [
    "print(\"Number of Entries: \", len(bib_database.entries))\n",
    "with open(out_bib_path, 'w', encoding=\"utf-8\") as bibtex_file:\n",
    "    bibtexparser.dump(bib_database, bibtex_file)\n"
   ]
  },
  {
   "cell_type": "code",
   "execution_count": 14,
   "metadata": {
    "pycharm": {
     "name": "#%%\n"
    }
   },
   "outputs": [
    {
     "name": "stdout",
     "output_type": "stream",
     "text": [
      "c:\\Users\\thier\\Documents\\GitHub\\reffix\\fixed_ref\\cleanManuscript.bib\n"
     ]
    }
   ],
   "source": [
    "print(os.path.abspath(out_bib_path))"
   ]
  },
  {
   "cell_type": "code",
   "execution_count": null,
   "metadata": {},
   "outputs": [],
   "source": []
  }
 ],
 "metadata": {
  "kernelspec": {
   "display_name": "Python 3 (ipykernel)",
   "language": "python",
   "name": "python3"
  },
  "language_info": {
   "codemirror_mode": {
    "name": "ipython",
    "version": 3
   },
   "file_extension": ".py",
   "mimetype": "text/x-python",
   "name": "python",
   "nbconvert_exporter": "python",
   "pygments_lexer": "ipython3",
   "version": "3.9.7"
  }
 },
 "nbformat": 4,
 "nbformat_minor": 4
}
